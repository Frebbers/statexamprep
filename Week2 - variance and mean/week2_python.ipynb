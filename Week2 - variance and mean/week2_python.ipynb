{
 "cells": [
  {
   "cell_type": "markdown",
   "metadata": {},
   "source": [
    "# IntroStat Week 2 \n",
    "\n",
    "Welcome to the second lecture in IntroStat\n",
    "\n",
    "During the lectures we will present both slides and notebooks. \n",
    "\n",
    "This is the notebook used in the lecture in week 2.\n"
   ]
  },
  {
   "cell_type": "code",
   "execution_count": 3,
   "metadata": {},
   "source": [
    "import numpy as np\n",
    "import matplotlib.pyplot as plt"
   ],
   "outputs": []
  },
  {
   "cell_type": "markdown",
   "metadata": {},
   "source": [
    "### Week 2:"
   ]
  },
  {
   "cell_type": "markdown",
   "metadata": {},
   "source": [
    "### Example 1: Simulation of a stochastic variable (rolling a dice)"
   ]
  },
  {
   "cell_type": "code",
   "execution_count": 81,
   "metadata": {},
   "source": [
    "result = np.random.choice(range(1,7), size=1)\n",
    "print(result)"
   ],
   "outputs": []
  },
  {
   "cell_type": "markdown",
   "metadata": {},
   "source": [
    "### Example 2: Simulate n rolls with a fair dice"
   ]
  },
  {
   "cell_type": "code",
   "execution_count": 88,
   "metadata": {},
   "source": [
    "# Number of simulated realizations (sample size)\n",
    "n = 30\n",
    "\n",
    "# roll dice:\n",
    "xFair = np.random.choice([1,2,3,4,5,6], size=n, replace=True)\n",
    "print(xFair)"
   ],
   "outputs": []
  },
  {
   "cell_type": "code",
   "execution_count": 91,
   "metadata": {},
   "source": [
    "# Plot histogram:\n",
    "plt.hist(xFair, bins=np.arange(0.05,7,.1),edgecolor='black')\n",
    "plt.xlabel('x')\n",
    "plt.ylabel('Counts')\n",
    "plt.ylim([0,n])\n",
    "plt.title('Histogram of xFair')\n",
    "plt.show()"
   ],
   "outputs": []
  },
  {
   "cell_type": "code",
   "execution_count": null,
   "metadata": {},
   "source": [
    "# Count the number of each outcome using the bincount function\n",
    "counts = np.bincount(xFair)\n",
    "print(counts)"
   ],
   "outputs": []
  },
  {
   "cell_type": "code",
   "execution_count": null,
   "metadata": {},
   "source": [
    "# Plot the true/theoretical pdf \n",
    "plt.bar(range(1,7), [1/6]*6, color='red', label='True pdf', width=0.1)\n",
    "\n",
    "# add the empirical pdf (normalised histogram) to the plot\n",
    "plt.bar(range(1,7), counts[1:7]/n, width=0.05, label='Histogram / \"Empirical pdf\"')\n",
    "\n",
    "# add legend to the plot\n",
    "plt.legend()\n",
    "\n",
    "# set limits of y-axis \n",
    "plt.ylim([0,1])\n",
    "\n",
    "# show the plot\n",
    "plt.show()"
   ],
   "outputs": []
  },
  {
   "cell_type": "markdown",
   "metadata": {},
   "source": [
    "### Example 3: Simmulate n rolls with an unfair dice"
   ]
  },
  {
   "cell_type": "code",
   "execution_count": null,
   "metadata": {},
   "source": [
    "# Number of simulated realizations (sample size)\n",
    "n = 30\n",
    "\n",
    "# roll dice:\n",
    "probs = [1/7, 1/7, 1/7, 1/7, 1/7, 2/7]\n",
    "xUnFair = np.random.choice([1,2,3,4,5,6], size=n, replace=True, p=probs)\n",
    "print(xUnFair)"
   ],
   "outputs": []
  },
  {
   "cell_type": "code",
   "execution_count": null,
   "metadata": {},
   "source": [
    "# Count the number of each outcome using the bincount function\n",
    "counts = np.bincount(xUnFair)\n",
    "print(counts)"
   ],
   "outputs": []
  },
  {
   "cell_type": "code",
   "execution_count": null,
   "metadata": {},
   "source": [
    "# Plot the true/theoretical pdf \n",
    "plt.bar(range(1,7), probs, color='red', label='True pdf', width=0.1)\n",
    "\n",
    "# add the empirical pdf to the plot\n",
    "plt.bar(range(1,7), counts[1:7]/n, width=0.05, label='Empirical pdf')\n",
    "\n",
    "\n",
    "plt.legend()\n",
    "plt.ylim([0,1])\n",
    "plt.show()"
   ],
   "outputs": []
  },
  {
   "cell_type": "markdown",
   "metadata": {},
   "source": [
    "### Example 4: ECDF"
   ]
  },
  {
   "cell_type": "code",
   "execution_count": null,
   "metadata": {},
   "source": [
    "# Take the data from the unfair dice again\n",
    "print(xUnFair)\n",
    "print(counts)"
   ],
   "outputs": []
  },
  {
   "cell_type": "code",
   "execution_count": null,
   "metadata": {},
   "source": [
    "# Plot empirical pdf and cdf\n",
    "\n",
    "fig, (ax1, ax2) = plt.subplots(1, 2, figsize=(8,4))\n",
    "\n",
    "ax1.bar(range(1,7), counts[1:7]/n, label='True pdf', width=0.1)\n",
    "ax1.set_ylim([0,1])\n",
    "ax1.set_title('Empirical pdf')\n",
    "\n",
    "ax2.ecdf(xUnFair)\n",
    "ax2.set_ylim([0,1])\n",
    "ax2.set_title('Empirical cdf')\n",
    "\n",
    "plt.show()"
   ],
   "outputs": []
  },
  {
   "cell_type": "markdown",
   "metadata": {},
   "source": [
    "### Example 5: The binomial distribution"
   ]
  },
  {
   "cell_type": "code",
   "execution_count": 1,
   "metadata": {},
   "source": [
    "# import scipy.stats for theoretical distributions (and much more)\n",
    "import scipy.stats as stats"
   ],
   "outputs": []
  },
  {
   "cell_type": "code",
   "execution_count": 4,
   "metadata": {},
   "source": [
    "# Probability of \"success\"\n",
    "p = 0.1\n",
    "\n",
    "# Number of repititions\n",
    "nRepeat = 30\n",
    "\n",
    "# Simulate Bernoulli experiment 'nRepeat' times\n",
    "tmp = np.random.choice([0,1], p=[1-p, p], size=nRepeat, replace=True)\n",
    "print(tmp)"
   ],
   "outputs": []
  },
  {
   "cell_type": "code",
   "execution_count": 5,
   "metadata": {},
   "source": [
    "# Calculate number of successes\n",
    "print(np.sum(tmp))"
   ],
   "outputs": []
  },
  {
   "cell_type": "code",
   "execution_count": 14,
   "metadata": {},
   "source": [
    "# Or: use the binomial distribution simulation function\n",
    "stats.binom.rvs(n=nRepeat, p=p) # \"rvs\" is random variates"
   ],
   "outputs": []
  },
  {
   "cell_type": "markdown",
   "metadata": {},
   "source": [
    "have a look at documentation for binomial distribution in scipy.stats.binom:\n",
    "https://docs.scipy.org/doc/scipy/reference/generated/scipy.stats.binom.html\n",
    "\n",
    "- .rvs<br>\n",
    "- .pmf (\"pdf\" but for discrete distributions)<br>\n",
    "- .cdf<br>\n",
    "- .ppf<br>\n",
    "<br>\n",
    "and more.."
   ]
  },
  {
   "cell_type": "markdown",
   "metadata": {},
   "source": [
    "### Example 6: Number of 6's with fair dice"
   ]
  },
  {
   "cell_type": "code",
   "execution_count": null,
   "metadata": {},
   "source": [
    "# 'nRepeat' independent draws from the set [1,2,3,4,5,6]\n",
    "nRepeat = 30\n",
    "xFair = np.random.choice([1,2,3,4,5,6], size=nRepeat, replace=True)\n",
    "print(xFair)\n",
    "\n",
    "# Count number of 6's:\n",
    "print(np.sum(xFair == 6))"
   ],
   "outputs": []
  },
  {
   "cell_type": "code",
   "execution_count": null,
   "metadata": {},
   "source": [
    "# Or: use the binomial distribution simulation function\n",
    "stats.binom.rvs(n=nRepeat, p=1/6)"
   ],
   "outputs": []
  },
  {
   "cell_type": "code",
   "execution_count": null,
   "metadata": {},
   "source": [
    "plt.bar(np.arange(0, nRepeat+1, 1), stats.binom.pmf(k=np.arange(0,nRepeat+1,1), n=nRepeat, p=1/6))\n",
    "plt.show()"
   ],
   "outputs": []
  },
  {
   "cell_type": "markdown",
   "metadata": {},
   "source": [
    "### Callcenter example"
   ]
  },
  {
   "cell_type": "code",
   "execution_count": null,
   "metadata": {},
   "source": [
    "# we can calculate the probability using the pdf (\"pmf\") of the binomial:\n",
    "print(stats.binom.pmf(k=6, n=6, p=0.70))"
   ],
   "outputs": []
  },
  {
   "cell_type": "code",
   "execution_count": null,
   "metadata": {},
   "source": [
    "# lets plot entire pdf (\"pmf\"):\n",
    "plt.bar(np.arange(0,7,1),stats.binom.pmf(k=np.arange(0,7,1), n=6, p=0.70))\n",
    "plt.show()"
   ],
   "outputs": []
  },
  {
   "cell_type": "markdown",
   "metadata": {},
   "source": [
    "### Harddrive example\n",
    "Python (scipy.stats) uses different argument names than the book for the many parameters of the Hypergeometric distribution.\n",
    "\n",
    "In the book we use `n` draws with `a` number of successes from a `N` size population. `(n,a,N)`. Whereas the corresponding Python (scipy.stats) arguments (parameters) would be `(N,n,M)` - so `N` for number of draws, `n` number of successes from a `M` size population.\n",
    "\n",
    "Additionally, `k` correponds to `x` from the book.\n"
   ]
  },
  {
   "cell_type": "code",
   "execution_count": null,
   "metadata": {},
   "source": [
    "# we can calculate the probability using the pdf (\"pmf\") of the hypergoemetrical distribution:\n",
    "print(1 - stats.hypergeom.pmf(k=0, M=10, n=2, N=3))"
   ],
   "outputs": []
  },
  {
   "cell_type": "markdown",
   "metadata": {},
   "source": [
    "### Hospital admission example"
   ]
  },
  {
   "cell_type": "code",
   "execution_count": null,
   "metadata": {},
   "source": [
    "# we can calculate the probability using the pdf (\"pmf\") of the poisson distribution:\n",
    "print(stats.poisson.pmf(k=0,mu=0.3)+stats.poisson.pmf(k=1,mu=0.3)+stats.poisson.pmf(k=2,mu=0.3))"
   ],
   "outputs": []
  },
  {
   "cell_type": "code",
   "execution_count": null,
   "metadata": {},
   "source": [
    "# or we can use the cumulative distribution function (cdf):\n",
    "print(stats.poisson.cdf(k=2,mu=0.3))"
   ],
   "outputs": []
  },
  {
   "cell_type": "markdown",
   "metadata": {},
   "source": [
    "### Example 7: Sample mean of n rolls with a fair dice"
   ]
  },
  {
   "cell_type": "code",
   "execution_count": null,
   "metadata": {},
   "source": [
    "# Number of simulated realizations (sample size)\n",
    "n = 30\n",
    "\n",
    "# n independent draws from the set (1,2,3,4,5,6) \n",
    "# with equal probability of each outcome\n",
    "xFair = np.random.choice(range(1, 7), size=n, replace=True)\n",
    "print(xFair)\n",
    "\n",
    "# compute the sample mean:\n",
    "print(xFair.mean())"
   ],
   "outputs": []
  },
  {
   "cell_type": "markdown",
   "metadata": {},
   "source": [
    "Now change n to 1000 and try again (do not print xFair) - what happens?"
   ]
  },
  {
   "cell_type": "markdown",
   "metadata": {},
   "source": [
    "### Example 8: Sample variance of n rolls with a fair dice "
   ]
  },
  {
   "cell_type": "code",
   "execution_count": null,
   "metadata": {},
   "source": [
    "# Number of simulated realizations (sample size)\n",
    "n = 30\n",
    "\n",
    "# n independent draws from the set (1,2,3,4,5,6) \n",
    "# with equal probability of each outcome\n",
    "xFair = np.random.choice(range(1, 7), size=n, replace=True)\n",
    "print(xFair)\n",
    "\n",
    "# compute the sample mean:\n",
    "print(xFair.var(ddof=1))"
   ],
   "outputs": []
  }
 ],
 "metadata": {
  "kernelspec": {
   "display_name": "pernille",
   "language": "python",
   "name": "python3"
  },
  "language_info": {
   "codemirror_mode": {
    "name": "ipython",
    "version": 3
   },
   "file_extension": ".py",
   "mimetype": "text/x-python",
   "name": "python",
   "nbconvert_exporter": "python",
   "pygments_lexer": "ipython3",
   "version": "3.11.9"
  }
 },
 "nbformat": 4,
 "nbformat_minor": 2
}
