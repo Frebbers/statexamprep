{
 "cells": [
  {
   "cell_type": "markdown",
   "metadata": {},
   "source": [
    "# Linear Regression Calculations\n",
    "This notebook demonstrates how to calculate various metrics and perform operations for linear regression using Python."
   ],
   "id": "69ecde1fd1a1d00d"
  },
  {
   "cell_type": "code",
   "metadata": {
    "ExecuteTime": {
     "end_time": "2024-12-14T14:59:44.481515Z",
     "start_time": "2024-12-14T14:59:41.409771Z"
    }
   },
   "source": [
    "# === Import Libraries ===\n",
    "import numpy as np\n",
    "import pandas as pd\n",
    "from scipy import stats\n",
    "import statsmodels.api as sm\n",
    "import statsmodels.formula.api as smf\n",
    "import matplotlib.pyplot as plt\n"
   ],
   "id": "71999a26de5d4baf",
   "outputs": [],
   "execution_count": 1
  },
  {
   "cell_type": "markdown",
   "metadata": {},
   "source": [
    "## Scenario 1: Manual Calculation of Regression Coefficients\n",
    "We calculate the slope and intercept manually."
   ],
   "id": "186ba4461e4d0a23"
  },
  {
   "cell_type": "code",
   "metadata": {
    "ExecuteTime": {
     "end_time": "2024-12-14T14:59:45.315072Z",
     "start_time": "2024-12-14T14:59:45.305950Z"
    }
   },
   "source": [
    "# Example data\n",
    "x = np.array([0, 0, 2, 2, 4, 4, 6, 6, 8, 8, 12, 12])\n",
    "y = np.array([16, 116, 1170, 841, 2287, 2012, 2653, 3333, 4270, 3999, 5750, 5407])\n",
    "\n",
    "# Calculate means\n",
    "mean_x = np.mean(x)\n",
    "mean_y = np.mean(y)\n",
    "\n",
    "# Calculate slope and intercept\n",
    "x_dev = x - mean_x\n",
    "y_dev = y - mean_y\n",
    "slope = np.sum(x_dev * y_dev) / np.sum(x_dev**2)\n",
    "intercept = mean_y - slope * mean_x\n",
    "\n",
    "print(f\"Slope: {slope:.4f}\")\n",
    "print(f\"Intercept: {intercept:.4f}\")"
   ],
   "id": "caf0aa85f80c236e",
   "outputs": [
    {
     "name": "stdout",
     "output_type": "stream",
     "text": [
      "Slope: 467.5821\n",
      "Intercept: 160.7286\n"
     ]
    }
   ],
   "execution_count": 2
  },
  {
   "cell_type": "markdown",
   "metadata": {},
   "source": [
    "## Scenario 2: Fit a Linear Regression Model\n",
    "We use `statsmodels` to fit a regression model and obtain key metrics."
   ],
   "id": "5bf22bf0b7f9f9a3"
  },
  {
   "cell_type": "code",
   "metadata": {
    "ExecuteTime": {
     "end_time": "2024-12-14T14:59:48.047673Z",
     "start_time": "2024-12-14T14:59:47.968120Z"
    }
   },
   "source": [
    "# Fit the linear regression model using statsmodels\n",
    "model = smf.ols('y ~ x', data={'x': x, 'y': y}).fit()\n",
    "print(model.summary())"
   ],
   "id": "caf86f7ddc798502",
   "outputs": [
    {
     "name": "stdout",
     "output_type": "stream",
     "text": [
      "                            OLS Regression Results                            \n",
      "==============================================================================\n",
      "Dep. Variable:                      y   R-squared:                       0.984\n",
      "Model:                            OLS   Adj. R-squared:                  0.982\n",
      "Method:                 Least Squares   F-statistic:                     608.4\n",
      "Date:                Sat, 14 Dec 2024   Prob (F-statistic):           2.74e-10\n",
      "Time:                        15:59:48   Log-Likelihood:                -82.615\n",
      "No. Observations:                  12   AIC:                             169.2\n",
      "Df Residuals:                      10   BIC:                             170.2\n",
      "Df Model:                           1                                         \n",
      "Covariance Type:            nonrobust                                         \n",
      "==============================================================================\n",
      "                 coef    std err          t      P>|t|      [0.025      0.975]\n",
      "------------------------------------------------------------------------------\n",
      "Intercept    160.7286    125.745      1.278      0.230    -119.449     440.906\n",
      "x            467.5821     18.957     24.666      0.000     425.344     509.821\n",
      "==============================================================================\n",
      "Omnibus:                        0.666   Durbin-Watson:                   1.823\n",
      "Prob(Omnibus):                  0.717   Jarque-Bera (JB):                0.583\n",
      "Skew:                           0.117   Prob(JB):                        0.747\n",
      "Kurtosis:                       1.946   Cond. No.                         11.3\n",
      "==============================================================================\n",
      "\n",
      "Notes:\n",
      "[1] Standard Errors assume that the covariance matrix of the errors is correctly specified.\n"
     ]
    },
    {
     "name": "stderr",
     "output_type": "stream",
     "text": [
      "C:\\Users\\Nico2\\Miniconda3\\Lib\\site-packages\\scipy\\stats\\_axis_nan_policy.py:418: UserWarning: `kurtosistest` p-value may be inaccurate with fewer than 20 observations; only n=12 observations were given.\n",
      "  return hypotest_fun_in(*args, **kwds)\n"
     ]
    }
   ],
   "execution_count": 3
  },
  {
   "cell_type": "markdown",
   "metadata": {},
   "source": [
    "## Scenario 3: Predicting Values\n",
    "We predict values of y for given x using the fitted model."
   ],
   "id": "5777bb7b6985a393"
  },
  {
   "cell_type": "code",
   "metadata": {
    "ExecuteTime": {
     "end_time": "2024-12-14T14:59:56.184269Z",
     "start_time": "2024-12-14T14:59:56.178751Z"
    }
   },
   "source": [
    "# Predict values\n",
    "x_new = np.array([1, 3, 5, 7, 9, 11])\n",
    "y_pred = intercept + slope * x_new\n",
    "print(\"Predicted values:\")\n",
    "print(y_pred)"
   ],
   "id": "9ed41ac06882dcbd",
   "outputs": [
    {
     "name": "stdout",
     "output_type": "stream",
     "text": [
      "Predicted values:\n",
      "[ 628.31071429 1563.475      2498.63928571 3433.80357143 4368.96785714\n",
      " 5304.13214286]\n"
     ]
    }
   ],
   "execution_count": 4
  },
  {
   "cell_type": "markdown",
   "metadata": {},
   "source": [
    "## Scenario 4: Calculating Residuals\n",
    "Residuals are the differences between the observed values and the values predicted by the model."
   ],
   "id": "d5e9a16e31b5f491"
  },
  {
   "cell_type": "code",
   "metadata": {
    "ExecuteTime": {
     "end_time": "2024-12-14T15:00:02.554122Z",
     "start_time": "2024-12-14T15:00:02.548334Z"
    }
   },
   "source": [
    "# Calculate residuals\n",
    "y_pred_full = intercept + slope * x\n",
    "residuals = y - y_pred_full\n",
    "print(\"Residuals:\")\n",
    "print(residuals)"
   ],
   "id": "f677028c6c825fc1",
   "outputs": [
    {
     "name": "stdout",
     "output_type": "stream",
     "text": [
      "Residuals:\n",
      "[-144.72857143  -44.72857143   74.10714286 -254.89285714  255.94285714\n",
      "  -19.05714286 -313.22142857  366.77857143  368.61428571   97.61428571\n",
      "  -21.71428571 -364.71428571]\n"
     ]
    }
   ],
   "execution_count": 5
  },
  {
   "cell_type": "markdown",
   "metadata": {},
   "source": [
    "## Scenario 5: R-Squared Calculation\n",
    "R-squared is a measure of how well the regression model fits the data."
   ],
   "id": "3784ac4929822c17"
  },
  {
   "cell_type": "code",
   "metadata": {
    "ExecuteTime": {
     "end_time": "2024-12-14T15:00:08.102970Z",
     "start_time": "2024-12-14T15:00:08.097377Z"
    }
   },
   "source": [
    "# Calculate R-squared manually\n",
    "ss_total = np.sum((y - mean_y)**2)\n",
    "ss_residual = np.sum(residuals**2)\n",
    "r_squared = 1 - (ss_residual / ss_total)\n",
    "print(f\"R-Squared: {r_squared:.4f}\")"
   ],
   "id": "28a3d97c716562ce",
   "outputs": [
    {
     "name": "stdout",
     "output_type": "stream",
     "text": [
      "R-Squared: 0.9838\n"
     ]
    }
   ],
   "execution_count": 6
  },
  {
   "cell_type": "markdown",
   "metadata": {},
   "source": [
    "## Scenario 6: Standard Error of the Regression Coefficients\n",
    "The standard errors of the slope and intercept indicate the variability of these estimates."
   ],
   "id": "8fae60e37894d2aa"
  },
  {
   "cell_type": "code",
   "metadata": {
    "ExecuteTime": {
     "end_time": "2024-12-14T15:00:13.013781Z",
     "start_time": "2024-12-14T15:00:13.007551Z"
    }
   },
   "source": [
    "# Standard error calculation\n",
    "n = len(x)\n",
    "s_squared = np.sum(residuals**2) / (n - 2)\n",
    "std_error_slope = np.sqrt(s_squared / np.sum((x - mean_x)**2))\n",
    "std_error_intercept = np.sqrt(\n",
    "    s_squared * (1/n + mean_x**2 / np.sum((x - mean_x)**2))\n",
    ")\n",
    "\n",
    "print(f\"Standard Error (Slope): {std_error_slope:.4f}\")\n",
    "print(f\"Standard Error (Intercept): {std_error_intercept:.4f}\")"
   ],
   "id": "37646380562c7b05",
   "outputs": [
    {
     "name": "stdout",
     "output_type": "stream",
     "text": [
      "Standard Error (Slope): 18.9568\n",
      "Standard Error (Intercept): 125.7452\n"
     ]
    }
   ],
   "execution_count": 7
  },
  {
   "cell_type": "markdown",
   "metadata": {},
   "source": [
    "## Scenario 7: Confidence Intervals for Coefficients\n",
    "We calculate confidence intervals for the slope and intercept."
   ],
   "id": "f7c7cf4e4f838ce9"
  },
  {
   "cell_type": "code",
   "metadata": {
    "ExecuteTime": {
     "end_time": "2024-12-14T15:00:16.562416Z",
     "start_time": "2024-12-14T15:00:16.555863Z"
    }
   },
   "source": [
    "# Confidence intervals for slope and intercept\n",
    "t_value = stats.t.ppf(1 - 0.025, df=n - 2)  # 95% confidence interval\n",
    "conf_interval_slope = (\n",
    "    slope - t_value * std_error_slope,\n",
    "    slope + t_value * std_error_slope\n",
    ")\n",
    "conf_interval_intercept = (\n",
    "    intercept - t_value * std_error_intercept,\n",
    "    intercept + t_value * std_error_intercept\n",
    ")\n",
    "\n",
    "print(f\"95% Confidence Interval (Slope): {conf_interval_slope}\")\n",
    "print(f\"95% Confidence Interval (Intercept): {conf_interval_intercept}\")"
   ],
   "id": "2cc40f8606c5185b",
   "outputs": [
    {
     "name": "stdout",
     "output_type": "stream",
     "text": [
      "95% Confidence Interval (Slope): (425.3437421077541, 509.8205436065315)\n",
      "95% Confidence Interval (Intercept): (-119.44928263220555, 440.90642548934903)\n"
     ]
    }
   ],
   "execution_count": 8
  }
 ],
 "metadata": {
  "kernelspec": {
   "display_name": "Python 3",
   "language": "python",
   "name": "python3"
  },
  "language_info": {
   "codemirror_mode": {
    "name": "ipython",
    "version": 3
   },
   "file_extension": ".py",
   "mimetype": "text/x-python",
   "name": "python",
   "nbconvert_exporter": "python",
   "pygments_lexer": "ipython3",
   "version": "3.8.5"
  }
 },
 "nbformat": 4,
 "nbformat_minor": 5
}
