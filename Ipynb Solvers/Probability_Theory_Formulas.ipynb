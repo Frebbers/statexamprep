{
 "cells": [
  {
   "cell_type": "markdown",
   "id": "0a493810",
   "metadata": {},
   "source": [
    "# Probability Theory Calculations\n",
    "This notebook allows you to input values and provides code snippets for various probability theory concepts, including discrete and continuous probability distributions, expected values, variance, and key probability rules.\n",
    "\n",
    "### Key Topics Covered:\n",
    "- **Binomial Distribution**\n",
    "- **Poisson Distribution**\n",
    "- **Normal Distribution**\n",
    "\n",
    "Let's dive in!"
   ]
  },
  {
   "cell_type": "code",
   "id": "a6e4fa10",
   "metadata": {
    "ExecuteTime": {
     "end_time": "2024-12-14T14:01:13.697854Z",
     "start_time": "2024-12-14T14:01:13.690638Z"
    }
   },
   "source": [
    "# === Binomial Distribution ===\n",
    "\n",
    "from scipy.stats import binom\n",
    "\n",
    "# Given Data\n",
    "n = 2  # Number of trials (e.g., for binomial distribution)\n",
    "p = 0.9  # Probability of success in each event : 0.9 = 90% (e.g., for binomial distribution)\n",
    "k = 10  # Observed number of successes out of n possible \n",
    "\n",
    "# Explanation:\n",
    "# Use the binomial distribution when there are a fixed number of independent trials, each with the same probability of success.\n",
    "# Example: Flipping a coin n times and counting the number of heads.\n",
    "\n",
    "# PMF: Probability of exactly x successes\n",
    "binom_pmf = binom.pmf(k, n, p)\n",
    "print(f'Binomial PMF (P(X = {k})): {binom_pmf:.3f}')\n",
    "\n",
    "# CDF: Probability of at most x successes\n",
    "binom_cdf = binom.cdf(x, n, p)\n",
    "print(f'Binomial CDF (P(X <= {k})): {binom_cdf:.3f}')"
   ],
   "outputs": [
    {
     "name": "stdout",
     "output_type": "stream",
     "text": [
      "Binomial PMF (P(X = 2)): 0.810\n",
      "Binomial CDF (P(X <= 2)): 1.000\n"
     ]
    }
   ],
   "execution_count": 13
  },
  {
   "cell_type": "code",
   "id": "74c9128f",
   "metadata": {
    "ExecuteTime": {
     "end_time": "2024-12-14T14:03:50.835308Z",
     "start_time": "2024-12-14T14:03:50.829193Z"
    }
   },
   "source": [
    "# === Poisson Distribution ===\n",
    "\n",
    "from scipy.stats import poisson\n",
    "\n",
    "# Given Data:\n",
    "n = 2  # Number of trials (e.g., for binomial distribution)\n",
    "p = 0.9  # Probability of success in each event : 0.9 = 90% (e.g., for binomial distribution)\n",
    "k = 10  # Observed number of successes out of n possible \n",
    "lambda_ = 2.5  # Rate for Poisson distribution\n",
    "\n",
    "\n",
    "# Explanation:\n",
    "# Use the Poisson distribution for modeling the number of events in a fixed interval of time or space.\n",
    "# Example: Number of customer arrivals at a store in an hour.\n",
    "\n",
    "# PMF: Probability of exactly x events\n",
    "poisson_pmf = poisson.pmf(k, lambda_)\n",
    "print(f'Poisson PMF (P(X = {k})): {poisson_pmf:.3f}')\n",
    "\n",
    "# CDF: Probability of at most x events\n",
    "poisson_cdf = poisson.cdf(x, lambda_)\n",
    "print(f'Poisson CDF (P(X <= {k})): {poisson_cdf:.3f}')"
   ],
   "outputs": [
    {
     "name": "stdout",
     "output_type": "stream",
     "text": [
      "Poisson PMF (P(X = 10)): 0.000\n",
      "Poisson CDF (P(X <= 10)): 1.000\n"
     ]
    }
   ],
   "execution_count": 17
  },
  {
   "cell_type": "code",
   "id": "e14ff736",
   "metadata": {
    "ExecuteTime": {
     "end_time": "2024-12-14T14:57:08.506792Z",
     "start_time": "2024-12-14T14:57:08.488697Z"
    }
   },
   "source": [
    "# === Normal Distribution ===\n",
    "\n",
    "from scipy.stats import norm\n",
    "\n",
    "# Given Data:\n",
    "k = 10  # Observed number of successes out of n possible \n",
    "\n",
    "# Explanation:\n",
    "# Use the normal distribution to model continuous data that is symmetrically distributed around the mean.\n",
    "# Example: Heights of people, test scores, etc.\n",
    "\n",
    "mu = 0  # Mean of the distribution\n",
    "sigma = 1  # Standard deviation of the distribution\n",
    "\n",
    "# PDF: Probability density function (not a direct probability)\n",
    "pdf_value = norm.pdf(k, mu, sigma)\n",
    "print(f'Normal PDF (Density at X = {k}): {pdf_value:.3f}')\n",
    "\n",
    "# CDF: Probability of X <= x\n",
    "cdf_value = norm.cdf(x, mu, sigma)\n",
    "print(f'Normal CDF (P(X <= {k})): {cdf_value:.3f}')"
   ],
   "outputs": [
    {
     "name": "stdout",
     "output_type": "stream",
     "text": [
      "Normal PDF (Density at X = 10): 0.000\n",
      "Normal CDF (P(X <= 10)): 1.000\n"
     ]
    }
   ],
   "execution_count": 19
  },
  {
   "metadata": {
    "ExecuteTime": {
     "end_time": "2024-12-14T14:57:12.358892Z",
     "start_time": "2024-12-14T14:57:12.351309Z"
    }
   },
   "cell_type": "code",
   "source": [
    "# === Expected Value Ratio E[X1] / E[X2] ===\n",
    "\n",
    "# Rates for Poisson distributions\n",
    "lambda_X1 = 2.5  # Rate for road 1 in 15 minutes (k * (minutes / hour) : 10 * (15 / 60\n",
    "lambda_X2 = 2.5  # Rate for road 2 in 10 minutes (k * (minutes / hour) : 15 * (10 / 60\n",
    "\n",
    "# Expected value ratio\n",
    "expected_value_ratio = lambda_X1 / lambda_X2\n",
    "print(f\"Expected value ratio E[X1] / E[X2]: {expected_value_ratio:.6f}\")"
   ],
   "id": "ecfb0820d468a632",
   "outputs": [
    {
     "name": "stdout",
     "output_type": "stream",
     "text": [
      "Expected value ratio E[X1] / E[X2]: 1.000000\n"
     ]
    }
   ],
   "execution_count": 20
  }
 ],
 "metadata": {
  "kernelspec": {
   "name": "python3",
   "language": "python",
   "display_name": "Python 3 (ipykernel)"
  }
 },
 "nbformat": 4,
 "nbformat_minor": 5
}
