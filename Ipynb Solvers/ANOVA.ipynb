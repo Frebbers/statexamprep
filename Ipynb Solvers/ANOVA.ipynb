{
 "cells": [
  {
   "cell_type": "markdown",
   "metadata": {},
   "source": [
    "# Two-Way ANOVA Example\n",
    "This notebook demonstrates how to perform a two-way ANOVA using Python."
   ],
   "id": "d458350ded69cf50"
  },
  {
   "cell_type": "code",
   "id": "convert-to-dataframe",
   "metadata": {
    "ExecuteTime": {
     "end_time": "2024-12-14T14:50:18.666949Z",
     "start_time": "2024-12-14T14:50:18.366848Z"
    }
   },
   "source": [
    "# === Import Libraries ===\n",
    "import pandas as pd\n",
    "import statsmodels.api as sm\n",
    "import statsmodels.formula.api as smf\n",
    "\n",
    "# Step 1: Define the data\n",
    "data = {\n",
    "    \"Breaking_Strength\": [\n",
    "        92.0, 111.6, 98.4, 87.7, 134.9,  # Supplier A\n",
    "        131.0, 103.5, 100.0, 84.7, 134.5,  # Supplier B\n",
    "        74.1, 52.8, 82.5, 94.7, 107.3,  # Supplier C\n",
    "        90.4, 95.2, 87.6, 63.2, 119.5   # Supplier D\n",
    "    ],\n",
    "    \"Supplier\": [\n",
    "        \"A\", \"A\", \"A\", \"A\", \"A\",  # Supplier A\n",
    "        \"B\", \"B\", \"B\", \"B\", \"B\",  # Supplier B\n",
    "        \"C\", \"C\", \"C\", \"C\", \"C\",  # Supplier C\n",
    "        \"D\", \"D\", \"D\", \"D\", \"D\"   # Supplier D\n",
    "    ],\n",
    "    \"Day\": [\n",
    "        1, 2, 3, 4, 5,  # Day 1-5 for Supplier A\n",
    "        1, 2, 3, 4, 5,  # Day 1-5 for Supplier B\n",
    "        1, 2, 3, 4, 5,  # Day 1-5 for Supplier C\n",
    "        1, 2, 3, 4, 5   # Day 1-5 for Supplier D\n",
    "    ]\n",
    "}\n",
    "\n",
    "\n",
    "# Step 2: Convert the data into a Pandas DataFrame\n",
    "df = pd.DataFrame(data)\n",
    "\n",
    "# Step 3: Perform Two-Way ANOVA\n",
    "# Fit the ANOVA model using statsmodels.formula.api\n",
    "model = smf.ols(\"Breaking_Strength ~ C(Supplier) + C(Day)\", data=df).fit()\n",
    "anova_results = sm.stats.anova_lm(model, typ=2)\n",
    "\n",
    "# Step 4: Print the ANOVA results\n",
    "print(anova_results)\n"
   ],
   "outputs": [
    {
     "name": "stdout",
     "output_type": "stream",
     "text": [
      "               sum_sq    df         F    PR(>F)\n",
      "C(Supplier)  2508.756   3.0  3.869560  0.037935\n",
      "C(Day)       4007.692   4.0  4.636164  0.017071\n",
      "Residual     2593.324  12.0       NaN       NaN\n"
     ]
    }
   ],
   "execution_count": 3
  }
 ],
 "metadata": {
  "kernelspec": {
   "display_name": "Python 3",
   "language": "python",
   "name": "python3"
  },
  "language_info": {
   "codemirror_mode": {
    "name": "ipython",
    "version": 3
   },
   "file_extension": ".py",
   "mimetype": "text/x-python",
   "name": "python",
   "nbconvert_exporter": "python",
   "pygments_lexer": "ipython3",
   "version": "3.8.5"
  }
 },
 "nbformat": 4,
 "nbformat_minor": 5
}
