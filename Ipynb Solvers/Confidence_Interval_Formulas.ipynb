{
 "cells": [
  {
   "cell_type": "markdown",
   "id": "4fd38792",
   "metadata": {},
   "source": [
    "# Confidence Interval Calculations\n",
    "This notebook allows you to input your values in the first cell, and then calculates various confidence intervals (CIs) using their respective formulas. Each code snippet provides explanations on when to use each CI formula.\n",
    "\n",
    "### Key Confidence Interval Types:\n",
    "- **Mean (Known Variance)**\n",
    "- **Mean (Unknown Variance)**\n",
    "- **Proportion**\n",
    "- **Standard Deviation**\n",
    "\n",
    "Let's get started!"
   ]
  },
  {
   "cell_type": "code",
   "id": "b4775ed3",
   "metadata": {
    "ExecuteTime": {
     "end_time": "2024-12-14T17:16:54.810926Z",
     "start_time": "2024-12-14T17:16:54.807038Z"
    }
   },
   "source": [
    "from scipy.stats import norm\n",
    "import numpy as np\n",
    "# Input your values here:\n",
    "mean = 84.5  # Replace with your sample mean (if applicable)\n",
    "std_dev = 9.5  # Replace with your sample standard deviation (if applicable)\n",
    "#std_dev = std_x = np.std(np.array([82, 70, 77, 59, 86, 81, 102, 95, 89, 104]), ddof=1)  # Replace with your array if you have not been given a standard deviation\n",
    "n = 10  # Replace with your sample size\n",
    "alpha = 0.001  # Significance level\n",
    "p_hat = 0.537  # Sample proportion (replace if calculating CI for proportions)\n",
    "nSubset = 14048  # Subset of the sample size (replace if calculating CI for guessed proportion)\n",
    "#nSubset = n*p_hat  # Subset of the sample size (replace if calculating CI using a given proportion)"
   ],
   "outputs": [],
   "execution_count": 97
  },
  {
   "metadata": {
    "ExecuteTime": {
     "end_time": "2024-12-14T17:16:54.821349Z",
     "start_time": "2024-12-14T17:16:54.817937Z"
    }
   },
   "cell_type": "code",
   "source": [
    "#standard error and z-score for MEAN estimate. Replace mean with the value you have estimates for\n",
    "stdError = std_dev**2/n\n",
    "zScore = mean/std_dev\n",
    "zCritical = norm.ppf(1 - alpha / 2)\n",
    "margin_of_error = zCritical * stdError\n",
    "print(f'Standard error: {stdError}')\n",
    "print(f'z-score {mean/std_dev}')\n",
    "print(f'z-critical {zCritical}')\n",
    "print(f'margin of error {margin_of_error}')"
   ],
   "id": "e971dd8fa6d7ad39",
   "outputs": [
    {
     "data": {
      "text/plain": [
       "'\"\\n\\nstdError = std_dev**2/n\\nzScore = mean/std_dev\\nzCritical = norm.ppf(1 - alpha / 2)\\nmargin_of_error = zCritical * stdError\\nprint(f\\'Standard error: {stdError}\\')\\nprint(f\\'z-score {mean/std_dev}\\')\\nprint(f\\'z-critical {zCritical}\\')\\nprint(f\\'margin of error {margin_of_error}\\')\\n'"
      ]
     },
     "execution_count": 98,
     "metadata": {},
     "output_type": "execute_result"
    }
   ],
   "execution_count": 98
  },
  {
   "cell_type": "code",
   "id": "545433db",
   "metadata": {
    "ExecuteTime": {
     "end_time": "2024-12-14T17:16:54.825166Z",
     "start_time": "2024-12-14T17:16:54.821349Z"
    }
   },
   "source": [
    "# === Confidence Interval for Mean (Known Variance) ===\n",
    "import numpy as np\n",
    "from scipy.stats import norm\n",
    "\n",
    "# Explanation:\n",
    "# Use this formula when the population standard deviation (σ) is known.\n",
    "# Example scenario: Estimating the average height of adults in a population where σ is known.\n",
    "\n",
    "# Step 1: Compute the critical z-value\n",
    "z_critical = norm.ppf(1 - alpha / 2)\n",
    "\n",
    "# Step 2: Calculate the margin of error\n",
    "margin_of_error = z_critical * (std_dev / np.sqrt(n))\n",
    "\n",
    "# Step 3: Compute the confidence interval\n",
    "ci_lower = mean - margin_of_error\n",
    "ci_upper = mean + margin_of_error\n",
    "df = n - 1  # Degrees of freedom\n",
    "print(f'Confidence Interval for Mean (Known Variance): ({ci_lower:.3f}, {ci_upper:.3f})')"
   ],
   "outputs": [
    {
     "name": "stdout",
     "output_type": "stream",
     "text": [
      "Confidence Interval for Mean (Known Variance): (69.971, 99.029)\n"
     ]
    }
   ],
   "execution_count": 99
  },
  {
   "cell_type": "code",
   "id": "8a8abe16",
   "metadata": {
    "ExecuteTime": {
     "end_time": "2024-12-14T17:16:54.828478Z",
     "start_time": "2024-12-14T17:16:54.825166Z"
    }
   },
   "source": [
    "# === Confidence Interval for Mean (Unknown Variance) ===\n",
    "from scipy.stats import t\n",
    "\n",
    "# Explanation:\n",
    "# Use this formula when the population standard deviation is unknown.\n",
    "# Example scenario: Estimating the mean test scores in a sample without knowing the population variance.\n",
    "\n",
    "# Step 1: Compute the critical t-value\n",
    "t_critical = t.ppf(1 - alpha / 2, df)\n",
    "\n",
    "# Step 2: Calculate the margin of error\n",
    "margin_of_error = t_critical * (std_dev / np.sqrt(n))\n",
    "\n",
    "# Step 3: Compute the confidence interval\n",
    "ci_lower = mean - margin_of_error\n",
    "ci_upper = mean + margin_of_error\n",
    "\n",
    "print(f'Confidence Interval for Mean (Unknown Variance): ({ci_lower:.3f}, {ci_upper:.3f})')"
   ],
   "outputs": [
    {
     "name": "stdout",
     "output_type": "stream",
     "text": [
      "Confidence Interval for Mean (Unknown Variance): (63.391, 105.609)\n"
     ]
    }
   ],
   "execution_count": 100
  },
  {
   "cell_type": "code",
   "id": "f2f351d8",
   "metadata": {
    "ExecuteTime": {
     "end_time": "2024-12-14T17:16:54.838153Z",
     "start_time": "2024-12-14T17:16:54.834997Z"
    }
   },
   "source": [
    "# === Confidence Interval for Proportion ===\n",
    "from statsmodels.stats.proportion import proportion_confint\n",
    "\n",
    "# Explanation:\n",
    "# Use this formula when estimating a confidence interval for a proportion.\n",
    "# Example scenario: Estimating the proportion of voters favoring a candidate in an election.\n",
    "\n",
    "# Step 1: Compute the confidence interval\n",
    "ci_lower, ci_upper = proportion_confint(count=nSubset, nobs=n, alpha=alpha, method='normal')\n",
    "\n",
    "print(f'Confidence Interval for Proportion: ({ci_lower:.3f}, {ci_upper:.3f})')"
   ],
   "outputs": [
    {
     "name": "stdout",
     "output_type": "stream",
     "text": [
      "Confidence Interval for Proportion: (nan, nan)\n"
     ]
    }
   ],
   "execution_count": 101
  },
  {
   "cell_type": "code",
   "id": "fc76d8f1",
   "metadata": {
    "ExecuteTime": {
     "end_time": "2024-12-14T17:16:54.841815Z",
     "start_time": "2024-12-14T17:16:54.838153Z"
    }
   },
   "source": [
    "# === Confidence Interval for Standard Deviation ===\n",
    "from scipy.stats import chi2\n",
    "\n",
    "# Explanation:\n",
    "# Use this formula when estimating a confidence interval for the population standard deviation.\n",
    "# Example scenario: Estimating the variability in product weights from a factory.\n",
    "\n",
    "# Step 1: Compute the chi-squared critical values\n",
    "chi2_lower = chi2.ppf(alpha / 2, df)\n",
    "chi2_upper = chi2.ppf(1 - alpha / 2, df)\n",
    "\n",
    "# Step 2: Calculate the confidence interval bounds\n",
    "ci_lower = np.sqrt((df * std_dev**2) / chi2_upper)\n",
    "ci_upper = np.sqrt((df * std_dev**2) / chi2_lower)\n",
    "\n",
    "print(f'Confidence Interval for Standard Deviation: ({ci_lower:.3f}, {ci_upper:.3f})')"
   ],
   "outputs": [
    {
     "name": "stdout",
     "output_type": "stream",
     "text": [
      "Confidence Interval for Standard Deviation: (7.690, 42.492)\n"
     ]
    }
   ],
   "execution_count": 102
  }
 ],
 "metadata": {
  "kernelspec": {
   "name": "python3",
   "language": "python",
   "display_name": "Python 3 (ipykernel)"
  }
 },
 "nbformat": 4,
 "nbformat_minor": 5
}
