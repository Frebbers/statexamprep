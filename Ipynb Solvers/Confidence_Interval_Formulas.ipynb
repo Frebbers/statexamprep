{
 "cells": [
  {
   "cell_type": "markdown",
   "id": "4fd38792",
   "metadata": {},
   "source": [
    "# Confidence Interval Calculations\n",
    "This notebook allows you to input your values in the first cell, and then calculates various confidence intervals (CIs) using their respective formulas. Each code snippet provides explanations on when to use each CI formula.\n",
    "\n",
    "### Key Confidence Interval Types:\n",
    "- **Mean (Known Variance)**\n",
    "- **Mean (Unknown Variance)**\n",
    "- **Proportion**\n",
    "- **Standard Deviation**\n",
    "\n",
    "Let's get started!"
   ]
  },
  {
   "cell_type": "code",
   "id": "b4775ed3",
   "metadata": {
    "ExecuteTime": {
     "end_time": "2024-12-14T16:58:56.802576Z",
     "start_time": "2024-12-14T16:58:56.799658Z"
    }
   },
   "source": [
    "from scipy.stats import norm\n",
    "# Input your values here:\n",
    "mean = 84  # Replace with your sample mean (if applicable)\n",
    "std_dev = 54.24  # Replace with your sample standard deviation\n",
    "n = 10  # Replace with your sample size\n",
    "alpha = 0.001  # Significance level\n",
    "p_hat = 0.537  # Sample proportion (replace if calculating CI for proportions)\n",
    "nSubset = 14048  # Subset of the sample size (replace if calculating CI for guessed proportion)\n",
    "#nSubset = n*p_hat  # Subset of the sample size (replace if calculating CI using a given proportion)"
   ],
   "outputs": [],
   "execution_count": 75
  },
  {
   "metadata": {
    "ExecuteTime": {
     "end_time": "2024-12-14T16:58:56.812509Z",
     "start_time": "2024-12-14T16:58:56.809090Z"
    }
   },
   "cell_type": "code",
   "source": [
    "#standard error and z-score for MEAN estimate. Replace mean with the value you have estimates for\n",
    "stdError = std_dev**2/n\n",
    "zScore = mean/std_dev\n",
    "zCritical = norm.ppf(1 - alpha / 2)\n",
    "margin_of_error = zCritical * stdError\n",
    "print(f'Standard error: {stdError}')\n",
    "print(f'z-score {mean/std_dev}')\n",
    "print(f'z-critical {zCritical}')\n",
    "print(f'margin of error {margin_of_error}')"
   ],
   "id": "e971dd8fa6d7ad39",
   "outputs": [
    {
     "name": "stdout",
     "output_type": "stream",
     "text": [
      "Standard error: 294.19776\n",
      "z-score 1.5486725663716814\n",
      "z-critical 3.2905267314919255\n",
      "margin of error 968.0655936250461\n"
     ]
    }
   ],
   "execution_count": 76
  },
  {
   "cell_type": "code",
   "id": "545433db",
   "metadata": {
    "ExecuteTime": {
     "end_time": "2024-12-14T16:58:56.824796Z",
     "start_time": "2024-12-14T16:58:56.821028Z"
    }
   },
   "source": [
    "# === Confidence Interval for Mean (Known Variance) ===\n",
    "import numpy as np\n",
    "from scipy.stats import norm\n",
    "\n",
    "# Explanation:\n",
    "# Use this formula when the population standard deviation (σ) is known.\n",
    "# Example scenario: Estimating the average height of adults in a population where σ is known.\n",
    "\n",
    "# Step 1: Compute the critical z-value\n",
    "z_critical = norm.ppf(1 - alpha / 2)\n",
    "\n",
    "# Step 2: Calculate the margin of error\n",
    "margin_of_error = z_critical * (std_dev / np.sqrt(n))\n",
    "\n",
    "# Step 3: Compute the confidence interval\n",
    "ci_lower = mean - margin_of_error\n",
    "ci_upper = mean + margin_of_error\n",
    "\n",
    "print(f'Confidence Interval for Mean (Known Variance): ({ci_lower:.3f}, {ci_upper:.3f})')"
   ],
   "outputs": [
    {
     "name": "stdout",
     "output_type": "stream",
     "text": [
      "Confidence Interval for Mean (Known Variance): (27.560, 140.440)\n"
     ]
    }
   ],
   "execution_count": 77
  },
  {
   "cell_type": "code",
   "id": "8a8abe16",
   "metadata": {
    "ExecuteTime": {
     "end_time": "2024-12-14T16:58:56.828973Z",
     "start_time": "2024-12-14T16:58:56.825801Z"
    }
   },
   "source": [
    "# === Confidence Interval for Mean (Unknown Variance) ===\n",
    "from scipy.stats import t\n",
    "\n",
    "# Explanation:\n",
    "# Use this formula when the population standard deviation is unknown.\n",
    "# Example scenario: Estimating the average test scores in a sample without knowing the population variance.\n",
    "\n",
    "# Step 1: Compute the critical t-value\n",
    "df = n - 1  # Degrees of freedom\n",
    "t_critical = t.ppf(1 - alpha / 2, df)\n",
    "\n",
    "# Step 2: Calculate the margin of error\n",
    "margin_of_error = t_critical * (std_dev / np.sqrt(n))\n",
    "\n",
    "# Step 3: Compute the confidence interval\n",
    "ci_lower = mean - margin_of_error\n",
    "ci_upper = mean + margin_of_error\n",
    "\n",
    "print(f'Confidence Interval for Mean (Unknown Variance): ({ci_lower:.3f}, {ci_upper:.3f})')"
   ],
   "outputs": [
    {
     "name": "stdout",
     "output_type": "stream",
     "text": [
      "Confidence Interval for Mean (Unknown Variance): (1.997, 166.003)\n"
     ]
    }
   ],
   "execution_count": 78
  },
  {
   "cell_type": "code",
   "id": "f2f351d8",
   "metadata": {
    "ExecuteTime": {
     "end_time": "2024-12-14T16:58:56.833483Z",
     "start_time": "2024-12-14T16:58:56.828973Z"
    }
   },
   "source": [
    "# === Confidence Interval for Proportion ===\n",
    "from statsmodels.stats.proportion import proportion_confint\n",
    "\n",
    "# Explanation:\n",
    "# Use this formula when estimating a confidence interval for a proportion.\n",
    "# Example scenario: Estimating the proportion of voters favoring a candidate in an election.\n",
    "\n",
    "# Step 1: Compute the confidence interval\n",
    "ci_lower, ci_upper = proportion_confint(count=nSubset, nobs=n, alpha=alpha, method='normal')\n",
    "\n",
    "print(f'Confidence Interval for Proportion: ({ci_lower:.3f}, {ci_upper:.3f})')"
   ],
   "outputs": [
    {
     "name": "stdout",
     "output_type": "stream",
     "text": [
      "Confidence Interval for Proportion: (nan, nan)\n"
     ]
    }
   ],
   "execution_count": 79
  },
  {
   "cell_type": "code",
   "id": "fc76d8f1",
   "metadata": {
    "ExecuteTime": {
     "end_time": "2024-12-14T16:58:56.837151Z",
     "start_time": "2024-12-14T16:58:56.833483Z"
    }
   },
   "source": [
    "# === Confidence Interval for Standard Deviation ===\n",
    "from scipy.stats import chi2\n",
    "\n",
    "# Explanation:\n",
    "# Use this formula when estimating a confidence interval for the population standard deviation.\n",
    "# Example scenario: Estimating the variability in product weights from a factory.\n",
    "\n",
    "# Step 1: Compute the chi-squared critical values\n",
    "chi2_lower = chi2.ppf(alpha / 2, df)\n",
    "chi2_upper = chi2.ppf(1 - alpha / 2, df)\n",
    "\n",
    "# Step 2: Calculate the confidence interval bounds\n",
    "ci_lower = np.sqrt((df * std_dev**2) / chi2_upper)\n",
    "ci_upper = np.sqrt((df * std_dev**2) / chi2_lower)\n",
    "\n",
    "print(f'Confidence Interval for Standard Deviation: ({ci_lower:.3f}, {ci_upper:.3f})')"
   ],
   "outputs": [
    {
     "name": "stdout",
     "output_type": "stream",
     "text": [
      "Confidence Interval for Standard Deviation: (29.875, 165.073)\n"
     ]
    }
   ],
   "execution_count": 80
  }
 ],
 "metadata": {
  "kernelspec": {
   "name": "python3",
   "language": "python",
   "display_name": "Python 3 (ipykernel)"
  }
 },
 "nbformat": 4,
 "nbformat_minor": 5
}
