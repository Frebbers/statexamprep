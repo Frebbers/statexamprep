{
 "cells": [
  {
   "cell_type": "markdown",
   "metadata": {},
   "source": [
    "# Variance Calculation Examples\n",
    "This notebook demonstrates how to calculate variance under different scenarios using Python."
   ],
   "id": "5f566865fc88b889"
  },
  {
   "cell_type": "code",
   "metadata": {
    "ExecuteTime": {
     "end_time": "2024-12-14T14:53:16.405196Z",
     "start_time": "2024-12-14T14:53:15.492505Z"
    }
   },
   "source": [
    "# === Import Libraries ===\n",
    "import numpy as np\n",
    "import pandas as pd\n"
   ],
   "id": "9464542c98d3907c",
   "outputs": [],
   "execution_count": 1
  },
  {
   "cell_type": "markdown",
   "metadata": {},
   "source": [
    "## Scenario 1: Variance of a Single Dataset\n",
    "We calculate the variance of a single dataset using NumPy."
   ],
   "id": "80922bddef689b1e"
  },
  {
   "cell_type": "code",
   "execution_count": null,
   "metadata": {},
   "outputs": [],
   "source": [
    "# Example dataset\n",
    "data = [10, 12, 23, 23, 16, 23, 21, 16]\n",
    "\n",
    "# Calculate variance (population)\n",
    "variance_population = np.var(data)\n",
    "print(f\"Population Variance: {variance_population:.2f}\")\n",
    "\n",
    "# Calculate variance (sample)\n",
    "variance_sample = np.var(data, ddof=1)\n",
    "print(f\"Sample Variance: {variance_sample:.2f}\")"
   ],
   "id": "a536601316658b37"
  },
  {
   "cell_type": "markdown",
   "metadata": {},
   "source": [
    "## Scenario 2: Variance of Multiple Columns in a DataFrame\n",
    "We calculate variance for multiple columns in a Pandas DataFrame."
   ],
   "id": "e140a88219dc8b55"
  },
  {
   "cell_type": "code",
   "execution_count": null,
   "metadata": {},
   "outputs": [],
   "source": [
    "# Example DataFrame\n",
    "data = {\n",
    "    \"Column1\": [10, 12, 23, 23, 16, 23, 21, 16],\n",
    "    \"Column2\": [9, 15, 25, 22, 14, 20, 19, 15]\n",
    "}\n",
    "df = pd.DataFrame(data)\n",
    "\n",
    "# Calculate variance for each column\n",
    "variance_df = df.var()\n",
    "print(\"Variance for each column:\")\n",
    "print(variance_df)"
   ],
   "id": "26b5e59546fb7cfd"
  },
  {
   "cell_type": "markdown",
   "metadata": {},
   "source": [
    "## Scenario 3: Variance of a Grouped Dataset\n",
    "We calculate the variance within groups in a dataset using Pandas."
   ],
   "id": "7299e650dfcef02b"
  },
  {
   "cell_type": "code",
   "execution_count": null,
   "metadata": {},
   "outputs": [],
   "source": [
    "# Example grouped dataset\n",
    "grouped_data = {\n",
    "    \"Group\": [\"A\", \"A\", \"A\", \"B\", \"B\", \"B\", \"C\", \"C\"],\n",
    "    \"Values\": [10, 12, 14, 20, 22, 24, 30, 32]\n",
    "}\n",
    "df_grouped = pd.DataFrame(grouped_data)\n",
    "\n",
    "# Calculate variance for each group\n",
    "group_variance = df_grouped.groupby(\"Group\").var()\n",
    "print(\"Variance for each group:\")\n",
    "print(group_variance)"
   ],
   "id": "4b4a8ee82b814149"
  },
  {
   "cell_type": "markdown",
   "metadata": {},
   "source": [
    "## Scenario 4: Weighted Variance\n",
    "We calculate variance for weighted data, where each value has a corresponding weight."
   ],
   "id": "78b7d61a0c357bab"
  },
  {
   "cell_type": "code",
   "execution_count": null,
   "metadata": {},
   "outputs": [],
   "source": [
    "# Example weighted dataset\n",
    "values = [10, 12, 23, 23, 16, 23, 21, 16]\n",
    "weights = [1, 2, 3, 4, 5, 6, 7, 8]\n",
    "\n",
    "# Calculate weighted mean\n",
    "weighted_mean = np.average(values, weights=weights)\n",
    "\n",
    "# Calculate weighted variance\n",
    "weighted_variance = np.average((np.array(values) - weighted_mean)**2, weights=weights)\n",
    "print(f\"Weighted Variance: {weighted_variance:.2f}\")"
   ],
   "id": "2756e1cb446967cc"
  },
  {
   "cell_type": "markdown",
   "metadata": {},
   "source": [
    "## Scenario 5: Variance of Time Series Data\n",
    "We calculate variance for a time series dataset."
   ],
   "id": "bbc6c5dd6d398c46"
  },
  {
   "cell_type": "code",
   "execution_count": null,
   "metadata": {},
   "outputs": [],
   "source": [
    "# Example time series data\n",
    "time_series_data = pd.Series(\n",
    "    [10, 12, 23, 23, 16, 23, 21, 16],\n",
    "    index=pd.date_range(\"2024-01-01\", periods=8)\n",
    ")\n",
    "\n",
    "# Calculate variance of the time series\n",
    "time_series_variance = time_series_data.var()\n",
    "print(f\"Time Series Variance: {time_series_variance:.2f}\")"
   ],
   "id": "4842e090207588e3"
  }
 ],
 "metadata": {
  "kernelspec": {
   "display_name": "Python 3",
   "language": "python",
   "name": "python3"
  },
  "language_info": {
   "codemirror_mode": {
    "name": "ipython",
    "version": 3
   },
   "file_extension": ".py",
   "mimetype": "text/x-python",
   "name": "python",
   "nbconvert_exporter": "python",
   "pygments_lexer": "ipython3",
   "version": "3.8.5"
  }
 },
 "nbformat": 4,
 "nbformat_minor": 5
}
