{
 "cells": [
  {
   "cell_type": "markdown",
   "id": "05eceb74",
   "metadata": {},
   "source": [
    "# Hypothesis Tests\n",
    "This notebook now includes the detailed calculation of T-Statistic, P-Value, and Critical T-Values for a T-Test, along with the existing Z-Test and Proportion Test methods. Simply input your values and execute the respective cells to perform your tests."
   ]
  },
  {
   "cell_type": "code",
   "id": "e17bd2d1",
   "metadata": {
    "ExecuteTime": {
     "end_time": "2024-12-14T14:24:30.436935Z",
     "start_time": "2024-12-14T14:24:30.422894Z"
    }
   },
   "source": [
    "# === T-Test ===\n",
    "from scipy.stats import t\n",
    "import numpy as np\n",
    "\n",
    "# Explanation:\n",
    "# Use a T-test when the population standard deviation is unknown.\n",
    "# Example: Comparing the mean test scores of a sample to a population mean, with unknown variance.\n",
    "\n",
    "# Given Data:\n",
    "alpha = 0.05  # Significance level (e.g., 0.05 for 95% confidence)\n",
    "sample_mean = 17  # Replace with the sample mean\n",
    "population_mean = 18  # Replace with the hypothesized mean\n",
    "std_dev = 4.5  # Replace with the sample or population standard deviation\n",
    "n = 48  # Replace with the sample size\n",
    "\n",
    "df = n - 1  # Degrees of freedom\n",
    "se = std_dev / np.sqrt(n)  # Standard error\n",
    "t_stat = (sample_mean - population_mean) / se  # T-statistic\n",
    "\n",
    "# Step 2: Calculate critical t-values\n",
    "t_critical_lower = t.ppf(alpha / 2, df)  # Lower critical t-value\n",
    "t_critical_upper = t.ppf(1 - alpha / 2, df)  # Upper critical t-value\n",
    "\n",
    "# Step 3: Calculate two-tailed p-value\n",
    "p_value = 2 * (1 - t.cdf(abs(t_stat), df))  # Two-tailed p-value (if you need One-tailed, remove the multiplier '2 *')\n",
    "\n",
    "# Output\n",
    "print('=== T-Test Results ===')\n",
    "print(f'T-Statistic (t_obs): {t_stat:.3f}')\n",
    "print(f'Critical T-Values: t_0.025 = {t_critical_lower:.3f}, t_0.975 = {t_critical_upper:.3f}')\n",
    "print(f'P-Value: {p_value:.3f}')\n",
    "if p_value < alpha:\n",
    "    print('Reject the null hypothesis.')\n",
    "else:\n",
    "    print('Fail to reject the null hypothesis.')"
   ],
   "outputs": [
    {
     "name": "stdout",
     "output_type": "stream",
     "text": [
      "=== T-Test Results ===\n",
      "T-Statistic (t_obs): -1.540\n",
      "Critical T-Values: t_0.025 = -2.012, t_0.975 = 2.012\n",
      "P-Value: 0.130\n",
      "Fail to reject the null hypothesis.\n"
     ]
    }
   ],
   "execution_count": 3
  },
  {
   "metadata": {
    "ExecuteTime": {
     "end_time": "2024-12-14T14:27:07.674972Z",
     "start_time": "2024-12-14T14:27:07.664675Z"
    }
   },
   "cell_type": "code",
   "source": [
    "# === Two-Sample T-Test ===\n",
    "from scipy.stats import t\n",
    "import numpy as np\n",
    "\n",
    "# Input values (this does not use the input values initially)\n",
    "n1 = 12  # Sample size for population 1\n",
    "n2 = 12  # Sample size for population 2\n",
    "x1_bar = 325  # Sample mean for population 1\n",
    "x2_bar = 286  # Sample mean for population 2\n",
    "s1 = 40  # Sample standard deviation for population 1\n",
    "s2 = 44  # Sample standard deviation for population 2\n",
    "alpha = 0.05  # Significance level\n",
    "\n",
    "# Step 1: Calculate the pooled standard error\n",
    "se_pooled = np.sqrt((s1**2 / n1) + (s2**2 / n2))\n",
    "\n",
    "# Step 2: Calculate the T-Statistic\n",
    "t_stat = (x1_bar - x2_bar) / se_pooled\n",
    "\n",
    "# Step 3: Calculate degrees of freedom using the Welch-Satterthwaite equation\n",
    "df = ((s1**2 / n1 + s2**2 / n2)**2) / (\n",
    "    ((s1**2 / n1)**2 / (n1 - 1)) + ((s2**2 / n2)**2 / (n2 - 1))\n",
    ")\n",
    "\n",
    "# Step 4: Calculate critical t-values\n",
    "t_critical_lower = t.ppf(alpha / 2, df)  # Lower critical t-value\n",
    "t_critical_upper = t.ppf(1 - alpha / 2, df)  # Upper critical t-value\n",
    "\n",
    "# Step 5: Calculate the two-tailed p-value\n",
    "p_value = 2 * (1 - t.cdf(abs(t_stat), df))  # === T-Test ===\n",
    "from scipy.stats import t\n",
    "import numpy as np\n",
    "\n",
    "# Explanation:\n",
    "# Use a T-test when the population standard deviation is unknown.\n",
    "# Example: Comparing the mean test scores of a sample to a population mean, with unknown variance.\n",
    "\n",
    "df = n - 1  # Degrees of freedom\n",
    "se = std_dev / np.sqrt(n)  # Standard error\n",
    "t_stat = (sample_mean - population_mean) / se  # T-statistic\n",
    "\n",
    "# Step 2: Calculate critical t-values\n",
    "t_critical_lower = t.ppf(alpha / 2, df)  # Lower critical t-value\n",
    "t_critical_upper = t.ppf(1 - alpha / 2, df)  # Upper critical t-value\n",
    "\n",
    "# Step 3: Calculate two-tailed p-value\n",
    "p_value = 2 * (1 - t.cdf(abs(t_stat), df))  # Two-tailed p-value (if you need One-tailed, remove the multiplier '2 *')\n",
    "\n",
    "# Output\n",
    "print('=== T-Test Results ===')\n",
    "print(f'T-Statistic (t_obs): {t_stat:.3f}')\n",
    "print(f'Critical T-Values: t_0.025 = {t_critical_lower:.3f}, t_0.975 = {t_critical_upper:.3f}')\n",
    "print(f'P-Value: {p_value:.3f}')\n",
    "if p_value < alpha:\n",
    "    print('Reject the null hypothesis.')\n",
    "else:\n",
    "    print('Fail to reject the null hypothesis.')\n",
    "\n",
    "# Output\n",
    "print('=== Two-Sample T-Test Results ===')\n",
    "print(f'T-Statistic: {t_stat:.3f}')\n",
    "print(f'P-Value: {p_value:.3f}')\n",
    "print(f'Degrees of Freedom: {df:.3f}')\n",
    "print(f'Critical T-Values: t_0.025 = {t_critical_lower:.3f}, t_0.975 = {t_critical_upper:.3f}')\n",
    "if p_value < alpha:\n",
    "    print('Reject the null hypothesis: There is a significant difference between the two population means.')\n",
    "else:\n",
    "    print('Fail to reject the null hypothesis: There is no significant difference between the two population means.')"
   ],
   "id": "e26780387af84d69",
   "outputs": [
    {
     "name": "stdout",
     "output_type": "stream",
     "text": [
      "=== Two-Sample T-Test Results ===\n",
      "T-Statistic: 2.272\n",
      "P-Value: 0.033\n",
      "Degrees of Freedom: 21.803\n",
      "Critical T-Values: t_0.025 = -2.075, t_0.975 = 2.075\n",
      "Reject the null hypothesis: There is a significant difference between the two population means.\n"
     ]
    }
   ],
   "execution_count": 4
  },
  {
   "cell_type": "code",
   "id": "565ed653",
   "metadata": {
    "ExecuteTime": {
     "end_time": "2024-12-14T14:34:58.986700Z",
     "start_time": "2024-12-14T14:34:58.979376Z"
    }
   },
   "source": [
    "# === Z-Test ===\n",
    "from scipy.stats import norm\n",
    "import numpy as np\n",
    "\n",
    "# Given Data:\n",
    "alpha = 0.05  # Significance level (e.g., 0.05 for 95% confidence)\n",
    "sample_mean = 17  # Replace with the sample mean\n",
    "population_mean = 18  # Replace with the hypothesized mean\n",
    "std_dev = 4.5  # Replace with the sample or population standard deviation\n",
    "n = 48  # Replace with the sample size\n",
    "\n",
    "# Explanation:\n",
    "# Use a Z-test when the population standard deviation is known.\n",
    "# Example: Comparing the mean height of a sample to a population mean, with known variance.\n",
    "\n",
    "se = std_dev / np.sqrt(n)  # Standard error\n",
    "z_stat = (sample_mean - population_mean) / se  # Z-statistic\n",
    "p_value = 2 * (1 - norm.cdf(abs(z_stat)))  # Two-tailed p-value\n",
    "\n",
    "# Output\n",
    "print('=== Z-Test Results ===')\n",
    "print(f'Z-Statistic: {z_stat:.3f}')\n",
    "print(f'P-Value: {p_value:.3f}')\n",
    "if p_value < alpha:\n",
    "    print('Reject the null hypothesis.')\n",
    "else:\n",
    "    print('Fail to reject the null hypothesis.')"
   ],
   "outputs": [
    {
     "name": "stdout",
     "output_type": "stream",
     "text": [
      "=== Z-Test Results ===\n",
      "Z-Statistic: -1.540\n",
      "P-Value: 0.124\n",
      "Fail to reject the null hypothesis.\n"
     ]
    }
   ],
   "execution_count": 5
  },
  {
   "cell_type": "code",
   "id": "5e4d2438",
   "metadata": {
    "ExecuteTime": {
     "end_time": "2024-12-14T14:41:10.398958Z",
     "start_time": "2024-12-14T14:41:10.387595Z"
    }
   },
   "source": [
    "# === Proportion Test and Confidence Interval ===\n",
    "from statsmodels.stats.proportion import proportions_ztest, proportion_confint\n",
    "\n",
    "# Given Data\n",
    "n = 28176  # Total sample size\n",
    "count = 14048  # Number of successes (e.g., males in the group)\n",
    "alpha = 0.05  # Significance level (0.05 = 0.95%)\n",
    "p_0 =  0.5 # Hypothesized population proportion (0.5 = 0.5 = 50%)\n",
    "\n",
    "# Perform Proportion Test\n",
    "z_stat, p_value = proportions_ztest(count, n, value=p_0, alternative='two-sided')\n",
    "\n",
    "# Calculate Confidence Interval\n",
    "confidence_interval = proportion_confint(count, n, alpha=alpha, method='normal')\n",
    "\n",
    "# Output Results\n",
    "print('=== Proportion Test Results ===')\n",
    "print(f'Z-Statistic: {z_stat:.3f}')\n",
    "print(f'P-Value: {p_value:.3f}')\n",
    "if p_value < alpha:\n",
    "    print('Reject the null hypothesis.')\n",
    "else:\n",
    "    print('Fail to reject the null hypothesis.')\n",
    "\n",
    "# Display Proportion and Confidence Interval\n",
    "proportion = count / n\n",
    "print(f'\\nProportion of Successes: {proportion:.3f}')\n",
    "print(f'{(1 - alpha) * 100:.0f}% Confidence Interval: [{confidence_interval[0]:.3f}, {confidence_interval[1]:.3f}]')\n"
   ],
   "outputs": [
    {
     "name": "stdout",
     "output_type": "stream",
     "text": [
      "=== Proportion Test Results ===\n",
      "Z-Statistic: -0.477\n",
      "P-Value: 0.634\n",
      "Fail to reject the null hypothesis.\n",
      "\n",
      "Proportion of Successes: 0.499\n",
      "95% Confidence Interval: [0.493, 0.504]\n"
     ]
    }
   ],
   "execution_count": 10
  }
 ],
 "metadata": {
  "kernelspec": {
   "name": "python3",
   "language": "python",
   "display_name": "Python 3 (ipykernel)"
  }
 },
 "nbformat": 4,
 "nbformat_minor": 5
}
