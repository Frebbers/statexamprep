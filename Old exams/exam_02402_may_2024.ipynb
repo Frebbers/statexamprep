{
 "cells": [
  {
   "cell_type": "code",
   "execution_count": 28,
   "metadata": {},
   "outputs": [],
   "source": [
    "import numpy as np\n",
    "import matplotlib.pyplot as plt\n",
    "import pandas as pd\n",
    "import scipy.stats as stats\n",
    "import statsmodels.api as sm\n",
    "import statsmodels.formula.api as smf\n",
    "import statsmodels.stats.power as smp\n",
    "import statsmodels.stats.proportion as smprop"
   ]
  },
  {
   "cell_type": "markdown",
   "metadata": {},
   "source": [
    "# 02402 may 2024\n",
    "\n",
    "## Question and Solution Translation to Python by Khalid"
   ]
  },
  {
   "cell_type": "markdown",
   "metadata": {},
   "source": [
    "Exercise I to IV: \n",
    "\n",
    "No translation needed for the questions- but scroll down to find solutions with Python by Pernille"
   ]
  },
  {
   "cell_type": "markdown",
   "metadata": {},
   "source": [
    "#### Exercise I"
   ]
  },
  {
   "cell_type": "code",
   "execution_count": null,
   "metadata": {},
   "outputs": [
    {
     "name": "stdout",
     "output_type": "stream",
     "text": [
      "-1.539600717839002\n",
      "[-2.01174051  2.01174051]\n"
     ]
    }
   ],
   "source": [
    "#Question I.1 (1)\n",
    "\n",
    "# Define variables\n",
    "x_bar = 17\n",
    "mu = 18\n",
    "s = 4.5\n",
    "n = 48\n",
    "\n",
    "# Calculate t_observed\n",
    "tobs = (x_bar - mu) / (s / np.sqrt(n))\n",
    "print(tobs)\n",
    "\n",
    "# Calculate Critical Values\n",
    "df=47\n",
    "critical_value = stats.t.ppf([0.025, 0.975], df)\n",
    "print(critical_value)"
   ]
  },
  {
   "cell_type": "code",
   "execution_count": null,
   "metadata": {},
   "outputs": [
    {
     "name": "stdout",
     "output_type": "stream",
     "text": [
      "Test statistic: -1.74\n",
      "p-value: 0.0889\n",
      "We do not reject the null hypothesis\n"
     ]
    }
   ],
   "source": [
    "#Question I.2 (2)\n",
    "\n",
    "# Define variables\n",
    "n = 45\n",
    "tobs = -1.74\n",
    "alpha = 0.05\n",
    "\n",
    "# Print tobs\n",
    "print(\"Test statistic:\", tobs)  # Output: -1.74\n",
    "\n",
    "# Calculate the p-value\n",
    "p_value = (1 - stats.t.cdf(np.abs(tobs), df=n-1)) * 2\n",
    "\n",
    "# Round the p-value to 4 decimal places\n",
    "p_value_rounded = np.round(p_value, 4)\n",
    "\n",
    "print(\"p-value:\", p_value_rounded)\n",
    "\n",
    "if p_value_rounded < alpha:\n",
    "    print(\"Reject Null Hypothesis\")\n",
    "else:\n",
    "    print(\"We do not reject the null hypothesis\")\n"
   ]
  },
  {
   "cell_type": "markdown",
   "metadata": {},
   "source": [
    "#### Questions II.1 (3)\n",
    "\n",
    "**Method 3.19 Confidence interval for the variance/standard deviation**\n",
    "\n",
    "A $100(1-\\alpha)\\%$ confidence interval for the variance $\\sigma^2$ is\n",
    "\n",
    "$\n",
    "\\left[ \\frac{(n-1)s^2}{\\chi^2_{1-\\alpha/2}}, \\frac{(n-1)s^2}{\\chi^2_{\\alpha/2}} \\right],\n",
    "$\n",
    "\n",
    "where the quantiles come from a $\\chi^2$-distribution with $\\nu = n-1$ degrees of freedom.\n",
    "\n",
    "A $100(1-\\alpha)\\%$ confidence interval for the standard deviation $\\sigma$ is\n",
    "\n",
    "$\n",
    "\\left[ \\sqrt{\\frac{(n-1)s^2}{\\chi^2_{1-\\alpha/2}}}, \\sqrt{\\frac{(n-1)s^2}{\\chi^2_{\\alpha/2}}} \\right].\n",
    "$\n"
   ]
  },
  {
   "cell_type": "code",
   "execution_count": 18,
   "metadata": {},
   "outputs": [
    {
     "name": "stdout",
     "output_type": "stream",
     "text": [
      "[0.072 0.121]\n"
     ]
    }
   ],
   "source": [
    "## The confidence interval for the standard deviation\n",
    "\n",
    "# Define variables\n",
    "n = 30\n",
    "s = 0.09\n",
    "alpha = 0.05\n",
    "\n",
    "# Calculate numerator\n",
    "numerator = (n - 1) * s**2\n",
    "\n",
    "# Confidence interval for standard deviation\n",
    "interval = [\n",
    "    np.sqrt(numerator / stats.chi2.ppf(1 - alpha / 2, df=n - 1)),\n",
    "    np.sqrt(numerator / stats.chi2.ppf(alpha / 2, df=n - 1))\n",
    "]\n",
    "\n",
    "# Round the interval to 3 decimal places\n",
    "interval_rounded = np.round(interval, 3)\n",
    "\n",
    "# Print the result\n",
    "print(interval_rounded)"
   ]
  },
  {
   "cell_type": "markdown",
   "metadata": {},
   "source": [
    "#### Question III.1 (4)\n",
    "\n",
    "P (X < 3) = 0.17 + 0.22 + 0.28 = 0.67\n"
   ]
  },
  {
   "cell_type": "markdown",
   "metadata": {},
   "source": [
    "#### Question III.2 (5)\n",
    "\n",
    "The formula for the sample variance ($s^2$) is:\n",
    "\n",
    "$\n",
    "s^2 = \\frac{1}{n-1} \\sum_{i=1}^n (x_i - \\bar{x})^2\n",
    "$\n",
    "\n",
    "Where:\n",
    "- $n$ = number of observations\n",
    "- $x_i$ = each individual observation\n",
    "- $\\bar{x}$ = sample mean (average of all observations)\n",
    "\n",
    "This formula divides by $n-1$ instead of $n$ to account for **Bessel's correction**, making it an unbiased estimate of the population variance."
   ]
  },
  {
   "cell_type": "code",
   "execution_count": null,
   "metadata": {},
   "outputs": [
    {
     "name": "stdout",
     "output_type": "stream",
     "text": [
      "Mean: 2.1\n",
      "Variance: 2.21\n"
     ]
    }
   ],
   "source": [
    "# Question III.2 (5)\n",
    "\n",
    "import numpy as np\n",
    "\n",
    "# Define values\n",
    "x = np.array([0, 1, 2, 4])\n",
    "f = np.array([0.17, 0.22, 0.28, 0.33])\n",
    "\n",
    "# Mean\n",
    "mean = np.sum(x * f)\n",
    "print(\"Mean:\", mean)\n",
    "\n",
    "# Variance\n",
    "variance = np.sum((x - mean)**2 * f)\n",
    "print(\"Variance:\", variance)"
   ]
  },
  {
   "cell_type": "markdown",
   "metadata": {},
   "source": [
    "#### Question IV.1 (6)\n",
    "\n",
    "The overall average concentration found across all four locations is 252.5\n",
    "The average concentration in location 1 is 250.0\n",
    "The estimate of the effect of Location 1 is found as the difference between the group mean and the overall mean:\n",
    "\n",
    "$\\hat{\\alpha}_1 = 250.0 - 252.5 = -2.5$"
   ]
  },
  {
   "cell_type": "markdown",
   "metadata": {},
   "source": [
    "#### Question IV.2 (7) What is the estimate of the error standard deviation?\n",
    "\n",
    "Consider the following Table shown in Chapter 8\n",
    "\n",
    "**ANOVA Table**\n",
    "\n",
    "| **Source of Variation** | **Degrees of Freedom** | **Sums of Squares**       | **Mean Sum of Squares**                                                                                   | **Test Statistic $ F $**                                       | **p-value**                           |\n",
    "|--------------------------|------------------------|---------------------------|-----------------------------------------------------------------------------------------------------------|-------------------------------------------------------------------|---------------------------------------|\n",
    "| Treatment               | $ k - 1 $           | $ SS(\\text{Tr}) $       | $ MS(\\text{Tr}) = \\frac{SS(\\text{Tr})}{k - 1} $                                                        | $ F_{\\text{obs}} = \\frac{MS(\\text{Tr})}{MSE} $                | $ P(F > F_{\\text{obs}}) $           |\n",
    "| Residual                | $ n - k $           | $ SSE$                 | $ MSE = \\frac{SSE}{n - k} $                                                                             |                                                                   |                                       |\n",
    "| Total                   | $ n - 1 $           | $ SST $                 |                                                                                                           |                                                                   |                                       |\n",
    "\n",
    "The estimate of the error variance is the mean square error, MSE\n",
    "\n",
    "MSE = $ SSE - SS(\\text{Tr}) = SSE - SS(\\text{Location})$\n",
    "\n",
    "The estimate of the error variance is the mean square error, $ MSE $, which is found as\n",
    "\n",
    "$\n",
    "MSE = \\frac{SST - SS(\\text{Location})}{n - k} = \\frac{915.92 - 480.00}{16 - 4} = 36.327.\n",
    "$\n",
    "\n",
    "Thus, the estimate of the error standard deviation is \n",
    "\n",
    "$\n",
    "\\hat{\\sigma} = \\sqrt{36.327} = 6.027.\n",
    "$ \n"
   ]
  },
  {
   "cell_type": "markdown",
   "metadata": {},
   "source": [
    "### Exercise V"
   ]
  },
  {
   "cell_type": "code",
   "execution_count": 35,
   "metadata": {},
   "outputs": [],
   "source": [
    "# PFOS concentrations\n",
    "x = np.array([0, 0, 2, 2, 4, 4, 6, 6, 8, 8, 12, 12])\n",
    "# SPETT values\n",
    "y = np.array([16, 116, 1170, 841, 2287, 2012, 2653, 3333, 4270, 3999, 5750, 5407])"
   ]
  },
  {
   "cell_type": "markdown",
   "metadata": {},
   "source": [
    "#### Question V.1 (8) What is the estimate of $\\beta_1$?"
   ]
  },
  {
   "cell_type": "code",
   "execution_count": 44,
   "metadata": {},
   "outputs": [
    {
     "name": "stdout",
     "output_type": "stream",
     "text": [
      "                            OLS Regression Results                            \n",
      "==============================================================================\n",
      "Dep. Variable:                      y   R-squared:                       0.984\n",
      "Model:                            OLS   Adj. R-squared:                  0.982\n",
      "No. Observations:                  12   F-statistic:                     608.4\n",
      "Covariance Type:            nonrobust   Prob (F-statistic):           2.74e-10\n",
      "==============================================================================\n",
      "                 coef    std err          t      P>|t|      [0.025      0.975]\n",
      "------------------------------------------------------------------------------\n",
      "Intercept    160.7286    125.745      1.278      0.230    -119.449     440.906\n",
      "x            467.5821     18.957     24.666      0.000     425.344     509.821\n",
      "==============================================================================\n",
      "\n",
      "Notes:\n",
      "[1] Standard Errors assume that the covariance matrix of the errors is correctly specified.\n"
     ]
    },
    {
     "name": "stderr",
     "output_type": "stream",
     "text": [
      "c:\\Users\\skhalid\\Miniconda3\\Lib\\site-packages\\scipy\\stats\\_axis_nan_policy.py:418: UserWarning: `kurtosistest` p-value may be inaccurate with fewer than 20 observations; only n=12 observations were given.\n",
      "  return hypotest_fun_in(*args, **kwds)\n"
     ]
    }
   ],
   "source": [
    "D = pd.DataFrame({'x': x, 'y': y})  # \"import pandas as pd\"\n",
    "#print(D)\n",
    "\n",
    "# Fit a simple linear regression model to the sample\n",
    "fitSimpleModel = smf.ols(formula = 'y ~ x', data = D).fit() \n",
    "\n",
    "print(fitSimpleModel.summary(slim=True))\n",
    "\n",
    "# When slim=True is passed to the summary() method, it provides a simplified version of the summary output, omitting some of the detailed statistics."
   ]
  },
  {
   "cell_type": "code",
   "execution_count": 40,
   "metadata": {},
   "outputs": [
    {
     "name": "stdout",
     "output_type": "stream",
     "text": [
      "p-value: 0.23\n",
      "We do not reject the null hypothesis\n"
     ]
    }
   ],
   "source": [
    "# Question V.2 (9)\n",
    "\n",
    "p_value = 0.230 #from the table above, for beta_0\n",
    "alpha = 0.05 # given in the question\n",
    "print(\"p-value:\", p_value)\n",
    "\n",
    "if p_value_rounded < alpha:\n",
    "    print(\"Reject Null Hypothesis\")\n",
    "else:\n",
    "    print(\"We do not reject the null hypothesis\")"
   ]
  },
  {
   "cell_type": "code",
   "execution_count": 43,
   "metadata": {},
   "outputs": [
    {
     "name": "stdout",
     "output_type": "stream",
     "text": [
      "     mean  mean_se  mean_ci_lower  mean_ci_upper  obs_ci_lower  obs_ci_upper\n",
      "0  3433.8    81.17        3252.95        3614.66       2829.04       4038.57\n"
     ]
    }
   ],
   "source": [
    "# Quesion V.3 (10): What is the 95% prediction interval at this (7 mg/kg PFOS) concentration?\n",
    "\n",
    "# New data\n",
    "new_data = pd.DataFrame({'x': [7]})\n",
    "# Get prediction and confidence intervals\n",
    "# pd.set_option(\"display.float_format\", None) ## unset option\n",
    "pred = fitSimpleModel.get_prediction(new_data).summary_frame(alpha=0.05) \n",
    "print(round(pred,2))\n",
    "\n",
    "#Prediction Interval: obs_ci_lower and obs_ci_upper"
   ]
  },
  {
   "cell_type": "markdown",
   "metadata": {},
   "source": [
    "#### Exercise VI.1 (11) Proportion estimate and confidence interval\n",
    "\n",
    "**Method 7.3 Proportion estimate and confidence interval**\n",
    "\n",
    "The best estimate of the probability $p $ of belonging to a category (the population proportion) is the sample proportion\n",
    "\n",
    "$\n",
    "\\hat{p} = \\frac{x}{n},\n",
    "$\n",
    "\n",
    "where $x $ is the number of observations in the category and $n $ is the total number of observations.\n",
    "\n",
    "A large sample \\((1 - \\alpha)100\\%$ confidence interval for $p $ is given as\n",
    "\n",
    "$\n",
    "\\hat{p} \\pm z_{1-\\alpha/2} \\sqrt{\\frac{\\hat{p}(1 - \\hat{p})}{n}}.\n",
    "$"
   ]
  },
  {
   "cell_type": "code",
   "execution_count": null,
   "metadata": {},
   "outputs": [
    {
     "name": "stdout",
     "output_type": "stream",
     "text": [
      "0.16\n",
      "0.311\n"
     ]
    }
   ],
   "source": [
    "## Proportion estimate and confidence interval: Using Formula\n",
    "\n",
    "# Data\n",
    "n = 85\n",
    "x = 20\n",
    "\n",
    "# Proportion estimate\n",
    "phat = x / n\n",
    "\n",
    "# Confidence interval\n",
    "confidence_level = 0.90\n",
    "z = stats.norm.ppf(1 - (1 - confidence_level) / 2)  # z-value for the confidence level\n",
    "margin_of_error = z * np.sqrt(phat * (1 - phat) / n)\n",
    "\n",
    "# Confidence interval bounds\n",
    "confidence_interval = (phat - margin_of_error, phat + margin_of_error)\n",
    "\n",
    "print(round(confidence_interval[0],3))\n",
    "print(round(confidence_interval[1],3))"
   ]
  },
  {
   "cell_type": "code",
   "execution_count": 59,
   "metadata": {},
   "outputs": [
    {
     "name": "stdout",
     "output_type": "stream",
     "text": [
      "Confidence Interval: (0.16, 0.311)\n"
     ]
    }
   ],
   "source": [
    "# Proportion estimate and confidence interval: Using builtin function\n",
    "\n",
    "# Data\n",
    "x = 20  # Number of successes\n",
    "n = 85  # Total number of trials\n",
    "conf_level = 0.9  # Confidence level\n",
    "\n",
    "# Calculate the confidence interval without continuity correction (method='normal' avoids correction)\n",
    "lower, upper = smprop.proportion_confint(count=x, nobs=n, alpha=1-conf_level, method='normal')\n",
    "\n",
    "# Print the confidence interval\n",
    "print(f\"Confidence Interval: ({round(lower, 3)}, {round(upper, 3)})\")"
   ]
  },
  {
   "cell_type": "code",
   "execution_count": 70,
   "metadata": {},
   "outputs": [
    {
     "name": "stdout",
     "output_type": "stream",
     "text": [
      "70\n"
     ]
    }
   ],
   "source": [
    "# Question VI.2 (12): Sample Size\n",
    "\n",
    "# data\n",
    "p = 20\n",
    "n = 85\n",
    "ME = 0.1\n",
    "\n",
    "# Proportion estimate\n",
    "phat = x / n\n",
    "\n",
    "confidence_level = 0.95\n",
    "z = stats.norm.ppf(1 - (1 - confidence_level) / 2)  # z-value for the confidence level\n",
    "\n",
    "sample_size  = phat*(1-phat)*(z/ME)**2\n",
    "\n",
    "print (math.ceil(sample_size))\n",
    "\n",
    "# Note: Mistake in the Facit and Result due to use of ME = 0.05\n"
   ]
  },
  {
   "cell_type": "markdown",
   "metadata": {},
   "source": [
    "Exercise VII:"
   ]
  },
  {
   "cell_type": "code",
   "execution_count": 245,
   "metadata": {},
   "outputs": [],
   "source": [
    "pre = np.array([41,46,35,49,33,42])\n",
    "post = np.array([42,47,43,55,28,49])"
   ]
  },
  {
   "cell_type": "markdown",
   "metadata": {},
   "source": [
    "#### Question VII.1 (13)\n",
    "\n",
    "Assuming the samples are from normal distributed populations and the improvement is measured by a difference in the mean of the populations, \n",
    "which of the following [Python] codes will result in the desired hypothesis test after reading in the data?\n",
    "\n",
    "\n",
    "**Translation for answers in the question**\n",
    "\n",
    "1)  stats.ttest_ind(pre.mean(), post.mean(), equal_var=False)\n",
    "\n",
    "2)  stats.ttest_ind(post, pre, equal_var=True)\n",
    "\n",
    "3)  stats.ttest_ind(pre, post, equal_var=False)\n",
    "\n",
    "4*)  stats.ttest_1samp(pre-post, popmean=0)\n",
    "\n",
    "5)  stats.ttest_ind(pre.std(ddof=1), post.std(ddof=1), equal_var=False)"
   ]
  },
  {
   "cell_type": "markdown",
   "metadata": {},
   "source": [
    "#### Exercise VIII"
   ]
  },
  {
   "cell_type": "code",
   "execution_count": 73,
   "metadata": {},
   "outputs": [
    {
     "name": "stdout",
     "output_type": "stream",
     "text": [
      "0.10882198108584873\n"
     ]
    }
   ],
   "source": [
    "# Question VIII.1 (14): Poisson Distribution\n",
    "\n",
    "# P (X>=5)\n",
    "\n",
    "# Parameters\n",
    "k = 4   # Number of events (upper limit)\n",
    "lambda_ = 2.5  # Mean number of events\n",
    "\n",
    "# Complement of cumulative probability\n",
    "result = 1 - stats.poisson.cdf(k, lambda_)\n",
    "\n",
    "# Print the result\n",
    "print(result)"
   ]
  },
  {
   "cell_type": "markdown",
   "metadata": {},
   "source": [
    "#### Question VIII.2 (15)\n",
    "\n",
    "2.5 forest files on one hot summer day\n",
    "So, for seven consecutive days, 7x2.5 = 15 forest files.\n",
    "\n",
    "Follows a poission distribution. "
   ]
  },
  {
   "cell_type": "code",
   "execution_count": null,
   "metadata": {},
   "outputs": [
    {
     "name": "stdout",
     "output_type": "stream",
     "text": [
      "0.289\n"
     ]
    }
   ],
   "source": [
    "# Question VIII.3 (16)\n",
    "\n",
    "p = 0.78 # Probability of success in each event\n",
    "n = 5    # Number of trials or draws\n",
    "k = 5    # Observed number of successes out of n trials\n",
    "\n",
    "result = stats.binom.pmf(k, n, p)\n",
    "print (round(result,3))"
   ]
  },
  {
   "cell_type": "markdown",
   "metadata": {},
   "source": [
    "Exercise IX:"
   ]
  },
  {
   "cell_type": "markdown",
   "metadata": {},
   "source": [
    "30 butterflies were captured and wing lengths were measured in cm. \n",
    "\n",
    "Some summary statistics of the sample (stored in length_cm) are shown below:"
   ]
  },
  {
   "cell_type": "code",
   "execution_count": null,
   "metadata": {},
   "outputs": [],
   "source": [
    "# length_cm.min()\n",
    "# 3.06\n",
    "\n",
    "# length_cm.max()\n",
    "# 5.37\n",
    "\n",
    "#  np.percentile(length_cm , [25, 50, 75], method=’averaged_inverted_cdf’) \n",
    "# 3.72 3.93 4.32\n",
    "\n",
    "# length_cm.mean()\n",
    "# 4.03\n",
    "\n",
    "# length_cm.std(ddof=1)\n",
    "# 0.49"
   ]
  },
  {
   "cell_type": "code",
   "execution_count": 89,
   "metadata": {},
   "outputs": [
    {
     "name": "stdout",
     "output_type": "stream",
     "text": [
      "[3.75 4.31]\n"
     ]
    }
   ],
   "source": [
    "# Question IX.1 (17)\n",
    "\n",
    "# Set the number of simulations\n",
    "k = 100000\n",
    "# From data\n",
    "mu = 4.03\n",
    "sd = 0.49\n",
    "n = 30 \n",
    "\n",
    "# 1. Simulate k samples each with n=10 observations from given distribution\n",
    "simsamples = stats.norm.rvs(loc = mu, scale = sd, size=(k,n))\n",
    "\n",
    "# 2. Compute the median in each of the k samples\n",
    "simsamples = pd.DataFrame(simsamples)\n",
    "simmedians = simsamples.median(axis=1)\n",
    "\n",
    "# 3. Find the two relevant quantiles of the k generated medians (Be careful, check the confidence level)\n",
    "result = np.quantile(simmedians, [0.005, 0.995], method='averaged_inverted_cdf')\n",
    "print(np.round(result, 2))"
   ]
  },
  {
   "cell_type": "code",
   "execution_count": 246,
   "metadata": {},
   "outputs": [],
   "source": [
    "# code hint needed for q (17)\n",
    "\n",
    "# HINT: If you do the ”default” coding from the book, you will get the correct result with\n",
    "# np.random.seed(55)"
   ]
  },
  {
   "cell_type": "markdown",
   "metadata": {},
   "source": [
    "#### Question IX.2 (18) Which of the following answers makes use of non-parametric bootstrapping to estimate the 95% confidence interval for the first quartile (25th percentile) of the wing lengths in cm?\n",
    "\n",
    "Check (1) Whereever distribution is used is wrong as that's parametric.\n",
    "(2) 25th percentile\n",
    "(3) 95% confidence level"
   ]
  },
  {
   "cell_type": "code",
   "execution_count": null,
   "metadata": {},
   "outputs": [],
   "source": [
    "# possible answers (translated to Python):\n",
    "\n",
    "# 1)\n",
    "# sim_samples = np.random.choice(length_cm, size=(k,n))\n",
    "# sim_stats = np.quantile(sim_samples, p = 0.25, axis = 1, method = \"avergaed_inverted_cdf\")\n",
    "# np.quantile(sim_stats, p = [0.005, 0.995], method=\"averaged_inverted_cdf\")\n",
    "\n",
    "# 2)\n",
    "# sim_samples = stats.norm.rvs(loc = mean_cm, scale=sd_cm, size=(k,n))\n",
    "# sim_stats = np.quantile(sim_samples, p = 0.25, axis = 1, method = \"avergaed_inverted_cdf\")\n",
    "# np.quantile(sim_stats, p = [0.025, 0.975], method=\"averaged_inverted_cdf\")\n",
    "\n",
    "# 3)\n",
    "# sim_samples = np.random.choice(length_cm, size=(k,n))\n",
    "# sim_stats = np.quantile(sim_samples, p = 0.75, axis = 1, method = \"avergaed_inverted_cdf\")\n",
    "# np.quantile(sim_stats, p = [0.01, 0.99], method=\"averaged_inverted_cdf\")\n",
    "\n",
    "# 4)\n",
    "# sim_samples = stats.norm.rvs(loc = mean_cm, scale=sd_cm, size=(k,n))\n",
    "# sim_stats = np.quantile(sim_samples, p = 0.75, axis = 1, method = \"avergaed_inverted_cdf\")\n",
    "# np.quantile(sim_stats, p = [0.01, 0.99], method=\"averaged_inverted_cdf\")\n",
    "\n",
    "# 5*)\n",
    "# sim_samples = np.random.choice(length_cm, size=(k,n))\n",
    "# sim_stats = np.quantile(sim_samples, p = 0.25, axis = 1, method = \"avergaed_inverted_cdf\")\n",
    "# np.quantile(sim_stats, p = [0.025, 0.975], method=\"averaged_inverted_cdf\")"
   ]
  },
  {
   "cell_type": "code",
   "execution_count": null,
   "metadata": {},
   "outputs": [
    {
     "name": "stdout",
     "output_type": "stream",
     "text": [
      "2.27\n",
      "21.8\n"
     ]
    }
   ],
   "source": [
    "# Question X.1 (19)\n",
    "\n",
    "# For Welch Two-Sample hypothesis test (See Theorem 3.50)\n",
    "\n",
    "n1=12\n",
    "n2=12\n",
    "x1=325\n",
    "x2=286\n",
    "s1=40\n",
    "s2=44\n",
    "\n",
    "#Test statistic\n",
    "\n",
    "tobs = (x1-x2)/np.sqrt(s1**2/n1 + s2**2/n2)\n",
    "print (round(tobs,2))\n",
    "\n",
    "v_df = ((s1**2/n1 + s2**2/n2)**2)/(((s1**2/n1)**2/(n1-1))+((s2**2/n2)**2/(n2-1)))\n",
    "print (round(v_df,2))\n",
    "\n"
   ]
  },
  {
   "cell_type": "markdown",
   "metadata": {},
   "source": [
    "#### Question XI.1 (20) Non-linear Error Propagation\n",
    "skip"
   ]
  },
  {
   "cell_type": "markdown",
   "metadata": {},
   "source": [
    "Exercise XI:\n",
    "\n",
    "Regarding q (21): this question is out of scope, but code could be:"
   ]
  },
  {
   "cell_type": "code",
   "execution_count": 248,
   "metadata": {},
   "outputs": [],
   "source": [
    "x = stats.norm.rvs(size = k, loc= 0, scale = 1)**2 + stats.norm.rvs(size = k, loc= 0, scale = 1)**2"
   ]
  },
  {
   "cell_type": "markdown",
   "metadata": {},
   "source": [
    "#### Question XI.3 (22) Non-parametric & Parametric bootstrapping"
   ]
  },
  {
   "cell_type": "markdown",
   "metadata": {},
   "source": [
    "Exercise XII"
   ]
  },
  {
   "cell_type": "code",
   "execution_count": 104,
   "metadata": {},
   "outputs": [],
   "source": [
    "# output translated to python:\n",
    "\n",
    "# fit = smf.ols(formula = 'efficiency ~ ph + catalyst', data = df).fit()\n",
    "# print(fit.summary(slim=True))\n",
    "\n",
    "# OLS Regression Results\n",
    "# ==============================================================================\n",
    "# Dep. Variable:                      y  R-squared:                        0.549\n",
    "# Model:                            OLS  Adj. R-squared:                   0.496\n",
    "# No. Observations:                  20  F-statistic:                      10.36\n",
    "# Covariance Type:            nonrobust  Prob (F-statistic):            0.001145\n",
    "# ==============================================================================\n",
    "#                coef    std err         t       P>|t|      [0.025    0.975]\n",
    "# ------------------------------------------------------------------------------\n",
    "# Intercept    39.660     14.652     2.797       0.015          -        -\n",
    "# ph           -4.059      1.532    -2.649       0.017          -        -\n",
    "# catalyst      4.593      1.247     3.683       0.002          -        -\n",
    "# ==============================================================================\n",
    "\n",
    "# print(round(np.sqrt(fit.scale),2))\n",
    "# 6.34\n",
    "\n",
    "# print(fit.pvalues)\n",
    "# Intercept     0.01496 \n",
    "# ph            0.01687 \n",
    "# catalyst      0.00184 "
   ]
  },
  {
   "cell_type": "markdown",
   "metadata": {},
   "source": [
    "Exercise XIII:"
   ]
  },
  {
   "cell_type": "code",
   "execution_count": 107,
   "metadata": {},
   "outputs": [
    {
     "name": "stdout",
     "output_type": "stream",
     "text": [
      "           A   B   C   D   E\n",
      "Trace     12  14  18   5  15\n",
      "No Trace  38  35  35  42  35\n"
     ]
    }
   ],
   "source": [
    "# code translated to Python:\n",
    "\n",
    "tbl = pd.DataFrame(np.array([[12, 14, 18, 5, 15],\n",
    "                             [38, 35, 35, 42, 35]]), \n",
    "                   index=[\"Trace\", \"No Trace\"],\n",
    "                   columns=[\"A\", \"B\", \"C\", \"D\", \"E\"])\n",
    "\n",
    "print(tbl)\n"
   ]
  },
  {
   "cell_type": "code",
   "execution_count": null,
   "metadata": {},
   "outputs": [
    {
     "name": "stdout",
     "output_type": "stream",
     "text": [
      "[[12.85140562 12.59437751 13.62248996 12.08032129 12.85140562]\n",
      " [37.14859438 36.40562249 39.37751004 34.91967871 37.14859438]]\n",
      "0.08\n"
     ]
    }
   ],
   "source": [
    "# Question 25 and 26 \n",
    "\n",
    "chi2, p_val, dof, expected = stats.chi2_contingency(tbl, correction=False)\n",
    "\n",
    "print(expected)\n",
    "print (round(p_val,3))"
   ]
  },
  {
   "cell_type": "markdown",
   "metadata": {},
   "source": [
    "#### Question XIV.1 (28, 29, 30)"
   ]
  },
  {
   "cell_type": "code",
   "execution_count": 102,
   "metadata": {},
   "outputs": [
    {
     "data": {
      "image/png": "[encoded data removed]",
      "text/plain": [
       "<Figure size 640x480 with 1 Axes>"
      ]
     },
     "metadata": {},
     "output_type": "display_data"
    },
    {
     "name": "stdout",
     "output_type": "stream",
     "text": [
      "Median:  84.5\n",
      "Variance:  209.29\n"
     ]
    }
   ],
   "source": [
    "# Data\n",
    "x = np.array([77, 111, 71, 91, 116, 81, 83, 80, 86, 92])\n",
    "\n",
    "# Define bins: start from 70, class size 10\n",
    "bins = np.arange(70, x.max() + 10, 10)\n",
    "\n",
    "# Create histogram\n",
    "plt.hist(x, bins=bins, edgecolor='black', alpha=0.7)\n",
    "\n",
    "# Add titles and labels\n",
    "plt.title(\"Histogram of x\")\n",
    "plt.xlabel(\"Values\")\n",
    "plt.ylabel(\"Frequency\")\n",
    "\n",
    "# Show the histogram\n",
    "plt.show()\n",
    "\n",
    "median = np.median(x)\n",
    "print (\"Median: \", median)\n",
    "\n",
    "variance = np.var(x, ddof=1)\n",
    "print (\"Variance: \", round(variance,2))"
   ]
  },
  {
   "cell_type": "markdown",
   "metadata": {},
   "source": [
    "# Solutions with Python by Pernille"
   ]
  },
  {
   "cell_type": "markdown",
   "metadata": {},
   "source": [
    "Exercise I:"
   ]
  },
  {
   "cell_type": "code",
   "execution_count": null,
   "metadata": {},
   "outputs": [
    {
     "name": "stdout",
     "output_type": "stream",
     "text": [
      "-1.539600717839002\n",
      "-2.011740510475755\n",
      "2.0117405104757546\n"
     ]
    }
   ],
   "source": [
    "# Solution (1)\n",
    "\n",
    "mu0 = 18\n",
    "mu_hat = 17\n",
    "s = 4.5\n",
    "n = 48\n",
    "t_obs = (mu_hat-mu0)/(s/n**.5) \n",
    "\n",
    "print(t_obs)\n",
    "\n",
    "print(stats.t.ppf(0.025, df = n-1))\n",
    "print(stats.t.ppf(0.975, df = n-1))\n"
   ]
  },
  {
   "cell_type": "code",
   "execution_count": 19,
   "metadata": {},
   "outputs": [
    {
     "name": "stdout",
     "output_type": "stream",
     "text": [
      "0.08885012244793078\n"
     ]
    }
   ],
   "source": [
    "# solution (2)\n",
    "n = 45\n",
    "p_value = 2*stats.t.cdf(-1.74, df= n-1)\n",
    "print(p_value)"
   ]
  },
  {
   "cell_type": "markdown",
   "metadata": {},
   "source": [
    "since the p-value is greater than 0.05 the conclusion is we do not reject the null hypothesis"
   ]
  },
  {
   "cell_type": "code",
   "execution_count": 20,
   "metadata": {},
   "outputs": [
    {
     "data": {
      "text/plain": [
       "-2.0153675699129416"
      ]
     },
     "execution_count": 20,
     "metadata": {},
     "output_type": "execute_result"
    }
   ],
   "source": [
    "# we could also compare with critical value\n",
    "stats.t.ppf(0.025, df=n-1)"
   ]
  },
  {
   "cell_type": "markdown",
   "metadata": {},
   "source": [
    "we see that the t_obs is less extreme than the critical value (accept H0)"
   ]
  },
  {
   "cell_type": "markdown",
   "metadata": {},
   "source": [
    "Exercise II:"
   ]
  },
  {
   "cell_type": "code",
   "execution_count": 23,
   "metadata": {},
   "outputs": [
    {
     "name": "stdout",
     "output_type": "stream",
     "text": [
      "0.07167662394863719 0.12098836613164021\n"
     ]
    }
   ],
   "source": [
    "# solution (3)\n",
    "mu_hat = 1.01\n",
    "s = 0.09\n",
    "n = 30\n",
    "\n",
    "# we need CI for the standard deviation (book method 3.19)\n",
    "\n",
    "chi2_0975 = stats.chi2.ppf(0.975, df=n-1)\n",
    "lower = np.sqrt((n-1)*s**2/chi2_0975)\n",
    "\n",
    "chi2_0025 = stats.chi2.ppf(0.025, df=n-1)\n",
    "upper = np.sqrt((n-1)*s**2/chi2_0025)\n",
    "\n",
    "print(lower, upper)"
   ]
  },
  {
   "cell_type": "markdown",
   "metadata": {},
   "source": [
    "Exercise III:"
   ]
  },
  {
   "cell_type": "code",
   "execution_count": null,
   "metadata": {},
   "outputs": [
    {
     "name": "stdout",
     "output_type": "stream",
     "text": [
      "0.67\n"
     ]
    }
   ],
   "source": [
    "# solution (4)\n",
    "\n",
    "# What is the probability P(X < 3)\n",
    "\n",
    "# f(x) is discrete\n",
    "# to calc F(X=2) = P(X <= 2) we sum the f(x) for x = 0,1,2\n",
    "\n",
    "print(.17 + .22 + .28)"
   ]
  },
  {
   "cell_type": "code",
   "execution_count": null,
   "metadata": {},
   "outputs": [
    {
     "name": "stdout",
     "output_type": "stream",
     "text": [
      "2.1\n"
     ]
    }
   ],
   "source": [
    "# solution (5)\n",
    "\n",
    "# The mean of X is 2.10. What is the variance of X?\n",
    "\n",
    "x = np.array([0,1,2,3,4])\n",
    "fx = np.array([.17, .22, .28, .0, .33])\n",
    "\n",
    "# for sanity check calc mean:\n",
    "print(np.sum(x*fx))"
   ]
  },
  {
   "cell_type": "code",
   "execution_count": 26,
   "metadata": {},
   "outputs": [
    {
     "name": "stdout",
     "output_type": "stream",
     "text": [
      "2.21\n"
     ]
    }
   ],
   "source": [
    "# now calc var:\n",
    "print(np.sum((x-2.10)**2 *fx))"
   ]
  },
  {
   "cell_type": "markdown",
   "metadata": {},
   "source": [
    "Exercise IV:"
   ]
  },
  {
   "cell_type": "code",
   "execution_count": 27,
   "metadata": {},
   "outputs": [
    {
     "name": "stdout",
     "output_type": "stream",
     "text": [
      "-2.5\n"
     ]
    }
   ],
   "source": [
    "# solution (6)\n",
    "\n",
    "print(250-252.5)"
   ]
  },
  {
   "cell_type": "code",
   "execution_count": 31,
   "metadata": {},
   "outputs": [
    {
     "name": "stdout",
     "output_type": "stream",
     "text": [
      "435.91999999999996\n",
      "36.32666666666666\n",
      "6.0271607467087405\n"
     ]
    }
   ],
   "source": [
    "# solution (7)\n",
    "SSE = 915.92 - 480\n",
    "SEM = SSE / (16-4)\n",
    "print(SSE)\n",
    "print(SEM)\n",
    "print(SEM**.5)"
   ]
  },
  {
   "cell_type": "markdown",
   "metadata": {},
   "source": [
    "Exercise V:"
   ]
  },
  {
   "cell_type": "code",
   "execution_count": 35,
   "metadata": {},
   "outputs": [
    {
     "name": "stdout",
     "output_type": "stream",
     "text": [
      "     x     y\n",
      "0    0    16\n",
      "1    0   116\n",
      "2    2  1170\n",
      "3    2   841\n",
      "4    4  2287\n",
      "5    4  2012\n",
      "6    6  2653\n",
      "7    6  3333\n",
      "8    8  4270\n",
      "9    8  3999\n",
      "10  12  5750\n",
      "11  12  5407\n"
     ]
    }
   ],
   "source": [
    "# solution (8)\n",
    "\n",
    "# PFOS concentrations\n",
    "x = np.array([0, 0, 2, 2, 4, 4, 6, 6, 8, 8, 12, 12])\n",
    "# SPETT values\n",
    "y = np.array([16, 116, 1170, 841, 2287, 2012, 2653, 3333, 4270, 3999, 5750, 5407])\n",
    "\n",
    "data8 = pd.DataFrame({'x': x, 'y': y})  \n",
    "print(data8)"
   ]
  },
  {
   "cell_type": "code",
   "execution_count": 252,
   "metadata": {},
   "outputs": [
    {
     "name": "stdout",
     "output_type": "stream",
     "text": [
      "                            OLS Regression Results                            \n",
      "==============================================================================\n",
      "Dep. Variable:                      y   R-squared:                       0.984\n",
      "Model:                            OLS   Adj. R-squared:                  0.982\n",
      "No. Observations:                  12   F-statistic:                     608.4\n",
      "Covariance Type:            nonrobust   Prob (F-statistic):           2.74e-10\n",
      "==============================================================================\n",
      "                 coef    std err          t      P>|t|      [0.025      0.975]\n",
      "------------------------------------------------------------------------------\n",
      "Intercept    160.7286    125.745      1.278      0.230    -119.449     440.906\n",
      "x            467.5821     18.957     24.666      0.000     425.344     509.821\n",
      "==============================================================================\n",
      "\n",
      "Notes:\n",
      "[1] Standard Errors assume that the covariance matrix of the errors is correctly specified.\n"
     ]
    },
    {
     "name": "stderr",
     "output_type": "stream",
     "text": [
      "c:\\Users\\pydni\\AppData\\Local\\anaconda3\\envs\\pernille\\Lib\\site-packages\\scipy\\stats\\_stats_py.py:1806: UserWarning: kurtosistest only valid for n>=20 ... continuing anyway, n=12\n",
      "  warnings.warn(\"kurtosistest only valid for n>=20 ... continuing \"\n"
     ]
    }
   ],
   "source": [
    "fit8 = smf.ols(formula = 'y ~ x', data=data8).fit()\n",
    "print(fit8.summary(slim=True))"
   ]
  },
  {
   "cell_type": "code",
   "execution_count": 38,
   "metadata": {},
   "outputs": [
    {
     "name": "stdout",
     "output_type": "stream",
     "text": [
      "          mean    mean_se  mean_ci_lower  mean_ci_upper  obs_ci_lower  \\\n",
      "0  3433.803571  81.168203    3252.949544    3614.657599   2829.041707   \n",
      "\n",
      "   obs_ci_upper  \n",
      "0   4038.565435  \n"
     ]
    }
   ],
   "source": [
    "# solution (10)\n",
    "new_data = pd.DataFrame({'x': [7]})\n",
    "\n",
    "pred = fit8.get_prediction(new_data).summary_frame(alpha=0.05)\n",
    "print(pred)\n"
   ]
  },
  {
   "cell_type": "markdown",
   "metadata": {},
   "source": [
    "Exercise VI:"
   ]
  },
  {
   "cell_type": "code",
   "execution_count": 42,
   "metadata": {},
   "outputs": [
    {
     "name": "stdout",
     "output_type": "stream",
     "text": [
      "0.23529411764705882\n",
      "[0.15961596112056983, 0.3109722741735478]\n"
     ]
    }
   ],
   "source": [
    "# solution (11)\n",
    "print(20/85)\n",
    "lower = 20/85 - stats.norm.ppf(0.95)*np.sqrt(20/85*(1-20/85)/85)\n",
    "upper = 20/85 + stats.norm.ppf(0.95)*np.sqrt(20/85*(1-20/85)/85)\n",
    "print([lower, upper])"
   ]
  },
  {
   "cell_type": "code",
   "execution_count": 43,
   "metadata": {},
   "outputs": [
    {
     "name": "stdout",
     "output_type": "stream",
     "text": [
      "276.4786971295425\n"
     ]
    }
   ],
   "source": [
    "# solution (12)\n",
    "\n",
    "p = 20/85\n",
    "\n",
    "print(p*(1-p)/((0.1/(2*stats.norm.ppf(0.975)))**2))"
   ]
  },
  {
   "cell_type": "markdown",
   "metadata": {},
   "source": [
    "Exercise VII:"
   ]
  },
  {
   "cell_type": "code",
   "execution_count": 45,
   "metadata": {},
   "outputs": [],
   "source": [
    "# solution (13)\n",
    "\n",
    "pre = np.array([41,46,35,49,33,42])\n",
    "post = np.array([42,47,43,55,28,49])"
   ]
  },
  {
   "cell_type": "code",
   "execution_count": null,
   "metadata": {},
   "outputs": [],
   "source": [
    "# 1)  stats.ttest_ind(pre.mean(), post.mean(), equal_var=False)\n",
    "\n",
    "# 2)  stats.ttest_ind(post, pre, equal_var=True)\n",
    "\n",
    "# 3)  stats.ttest_ind(pre, post, equal_var=False)\n",
    "\n",
    "# 4)  stats.ttest_1samp(pre-post, popmean=0)\n",
    "\n",
    "# 5)  stats.ttest_ind(pre.std(ddof=1), post.std(ddof=1), equal_var=False)"
   ]
  },
  {
   "cell_type": "code",
   "execution_count": null,
   "metadata": {},
   "outputs": [],
   "source": [
    "# try the code (if you want to test that it works)\n",
    "print(stats.ttest_ind(pre.mean(), post.mean(), equal_var=False))\n",
    "print(stats.ttest_ind(post, pre, equal_var=True))\n",
    "print(stats.ttest_ind(pre, post, equal_var=False))\n",
    "print(stats.ttest_1samp(pre-post, popmean=0))\n",
    "print(stats.ttest_ind(pre.std(ddof=1), post.std(ddof=1), equal_var=False))"
   ]
  },
  {
   "cell_type": "markdown",
   "metadata": {},
   "source": [
    "answer is number 4 - a one sample test of the differences (equal to a parred test)"
   ]
  },
  {
   "cell_type": "markdown",
   "metadata": {},
   "source": [
    "Exercise VIII:"
   ]
  },
  {
   "cell_type": "code",
   "execution_count": 58,
   "metadata": {},
   "outputs": [
    {
     "name": "stdout",
     "output_type": "stream",
     "text": [
      "0.10882198108584873\n"
     ]
    }
   ],
   "source": [
    "# solution (14)\n",
    "\n",
    "print(1 - stats.poisson.cdf(k=4, mu=2.5))"
   ]
  },
  {
   "cell_type": "code",
   "execution_count": 59,
   "metadata": {},
   "outputs": [
    {
     "data": {
      "text/plain": [
       "17.5"
      ]
     },
     "execution_count": 59,
     "metadata": {},
     "output_type": "execute_result"
    }
   ],
   "source": [
    "# solution (15)\n",
    "\n",
    "2.5*7"
   ]
  },
  {
   "cell_type": "code",
   "execution_count": 61,
   "metadata": {},
   "outputs": [
    {
     "name": "stdout",
     "output_type": "stream",
     "text": [
      "0.28871743680000006\n"
     ]
    }
   ],
   "source": [
    "# solution (16)\n",
    "print(stats.binom.pmf(k=5, n=5, p=0.78))"
   ]
  },
  {
   "cell_type": "markdown",
   "metadata": {},
   "source": [
    "Exercise IX:"
   ]
  },
  {
   "cell_type": "code",
   "execution_count": 253,
   "metadata": {},
   "outputs": [],
   "source": [
    "# solution (17)\n",
    "\n",
    "# length_cm.min()\n",
    "# 3.06\n",
    "\n",
    "# length_cm.max()\n",
    "# 5.37\n",
    "\n",
    "#  np.percentile(length_cm , [25, 50, 75], method=’averaged_inverted_cdf’) \n",
    "# 3.72 3.93 4.32\n",
    "\n",
    "# length_cm.mean()\n",
    "# 4.03\n",
    "\n",
    "# length_cm.std(ddof=1)\n",
    "# 0.49"
   ]
  },
  {
   "cell_type": "code",
   "execution_count": 204,
   "metadata": {},
   "outputs": [
    {
     "name": "stdout",
     "output_type": "stream",
     "text": [
      "[4.14695258 4.10146578 4.07560336 ... 4.15016382 4.08309909 4.17899033]\n",
      "[3.76310071 4.3147543 ]\n",
      "[3.76310071 4.3147543 ]\n"
     ]
    }
   ],
   "source": [
    "np.random.seed(55)\n",
    "simsamples = stats.norm.rvs(size=(10000,30), loc=4.03, scale=0.49)\n",
    "sim_medians = np.median(simsamples,axis=1)\n",
    "print(sim_medians)\n",
    "print(np.percentile(sim_medians, [0.5, 99.5], method=\"averaged_inverted_cdf\"))\n",
    "print(np.quantile(sim_medians, [0.005, .995], method=\"averaged_inverted_cdf\"))"
   ]
  },
  {
   "cell_type": "code",
   "execution_count": 254,
   "metadata": {},
   "outputs": [],
   "source": [
    "# (18)\n",
    "\n",
    "# The following code was run:\n",
    "\n",
    "# median_cm = 3.93\n",
    "# mean_cm = 4.03\n",
    "# sd_cm = 0.49\n",
    "# n = len(length_cm)\n",
    "# k = 10000"
   ]
  },
  {
   "cell_type": "code",
   "execution_count": null,
   "metadata": {},
   "outputs": [],
   "source": [
    "\n",
    "# answers (in Python):\n",
    "\n",
    "# 1)\n",
    "# sim_samples = np.random.choice(length_cm, size=(k,n))\n",
    "# sim_stats = np.quantile(sim_samples, p = 0.25, axis = 1, method = \"avergaed_inverted_cdf\")\n",
    "# np.quantile(sim_stats, p = [0.005, 0.995], method=\"averaged_inverted_cdf\")\n",
    "\n",
    "# 2)\n",
    "# sim_samples = stats.norm.rvs(loc = mean_cm, scale=sd_cm, size=(k,n))\n",
    "# sim_stats = np.quantile(sim_samples, p = 0.25, axis = 1, method = \"avergaed_inverted_cdf\")\n",
    "# np.quantile(sim_stats, p = [0.025, 0.975], method=\"averaged_inverted_cdf\")\n",
    "\n",
    "# 3)\n",
    "# sim_samples = np.random.choice(length_cm, size=(k,n))\n",
    "# sim_stats = np.quantile(sim_samples, p = 0.75, axis = 1, method = \"avergaed_inverted_cdf\")\n",
    "# np.quantile(sim_stats, p = [0.01, 0.99], method=\"averaged_inverted_cdf\")\n",
    "\n",
    "# 4)\n",
    "# sim_samples = stats.norm.rvs(loc = mean_cm, scale=sd_cm, size=(k,n))\n",
    "# sim_stats = np.quantile(sim_samples, p = 0.75, axis = 1, method = \"avergaed_inverted_cdf\")\n",
    "# np.quantile(sim_stats, p = [0.01, 0.99], method=\"averaged_inverted_cdf\")\n",
    "\n",
    "# 5)\n",
    "# sim_samples = np.random.choice(length_cm, size=(k,n))\n",
    "# sim_stats = np.quantile(sim_samples, p = 0.25, axis = 1, method = \"avergaed_inverted_cdf\")\n",
    "# np.quantile(sim_stats, p = [0.025, 0.975], method=\"averaged_inverted_cdf\")\n",
    "\n",
    "\n",
    "# correct answer is 5"
   ]
  },
  {
   "cell_type": "markdown",
   "metadata": {},
   "source": [
    "Exercise X:"
   ]
  },
  {
   "cell_type": "code",
   "execution_count": 220,
   "metadata": {},
   "outputs": [
    {
     "name": "stdout",
     "output_type": "stream",
     "text": [
      "39\n",
      "17.165857586111645\n",
      "2.2719517393383057\n"
     ]
    }
   ],
   "source": [
    "# solution (19)\n",
    "\n",
    "diff = 325 - 286\n",
    "print(diff)\n",
    "\n",
    "se_diff = np.sqrt((40**2 + 44**2)/12)\n",
    "print(se_diff)\n",
    "\n",
    "t_obs = diff/se_diff\n",
    "print(t_obs)"
   ]
  },
  {
   "cell_type": "code",
   "execution_count": 221,
   "metadata": {},
   "outputs": [
    {
     "name": "stdout",
     "output_type": "stream",
     "text": [
      "21.803132989732557\n"
     ]
    }
   ],
   "source": [
    "# df can be calculated with eqn 3-50 (page 162 in book)\n",
    "\n",
    "df = ((40**2 + 44**2)/12)**2 / ((40**2/12)**2/(12-1) + (44**2/12)**2/(12-1))\n",
    "print(df)"
   ]
  },
  {
   "cell_type": "markdown",
   "metadata": {},
   "source": [
    "Exercise XI:"
   ]
  },
  {
   "cell_type": "code",
   "execution_count": null,
   "metadata": {},
   "outputs": [],
   "source": [
    "# solution (20)\n",
    "\n",
    "# use error propagation\n",
    "\n",
    "# answer: 3"
   ]
  },
  {
   "cell_type": "code",
   "execution_count": null,
   "metadata": {},
   "outputs": [],
   "source": [
    "# solution (21)\n",
    "\n",
    "# out of scope"
   ]
  },
  {
   "cell_type": "code",
   "execution_count": null,
   "metadata": {},
   "outputs": [],
   "source": [
    "# solution (22)\n",
    "\n",
    "# answer is 3, but statement 1 could also be argued to be wrong"
   ]
  },
  {
   "cell_type": "markdown",
   "metadata": {},
   "source": [
    "Exercise XII:"
   ]
  },
  {
   "cell_type": "code",
   "execution_count": 255,
   "metadata": {},
   "outputs": [],
   "source": [
    "# output translated to python:\n",
    "\n",
    "# fit = smf.ols(formula = 'efficiency ~ ph + catalyst', data = df).fit()\n",
    "# print(fit.summary(slim=True))\n",
    "\n",
    "# OLS Regression Results\n",
    "# ==============================================================================\n",
    "# Dep. Variable:                      y  R-squared:                        0.549\n",
    "# Model:                            OLS  Adj. R-squared:                   0.496\n",
    "# No. Observations:                  20  F-statistic:                      10.36\n",
    "# Covariance Type:            nonrobust  Prob (F-statistic):            0.001145\n",
    "# ==============================================================================\n",
    "#                coef    std err         t       P>|t|      [0.025    0.975]\n",
    "# ------------------------------------------------------------------------------\n",
    "# Intercept    39.660     14.652     2.797       0.015          -        -\n",
    "# ph           -4.059      1.532    -2.649       0.017          -        -\n",
    "# catalyst      4.593      1.247     3.683       0.002          -        -\n",
    "# ==============================================================================\n",
    "\n",
    "# print(round(np.sqrt(fit.scale),2))\n",
    "# 6.34\n",
    "\n",
    "# print(fit.pvalues)\n",
    "# Intercept     0.01496 \n",
    "# ph            0.01687 \n",
    "# catalyst      0.00184 "
   ]
  },
  {
   "cell_type": "code",
   "execution_count": null,
   "metadata": {},
   "outputs": [],
   "source": [
    "# solution (23)\n",
    "\n",
    "# Which of the following statements is correct, given a significance\n",
    "# level of α = 1%?\n",
    "\n",
    "# 1 □ The effect of catalyst on efficiency is not significant, because the p-value is less than 0.01.\n",
    "# 2 □ The amount of catalyst have a significant effect on efficiency, while the pH does not.\n",
    "# 3 □ Both the amount of catalyst and the pH are significant, because the p-values are less than\n",
    "#     0.05.\n",
    "# 4 □ Neither the amount of catalyst nor the pH are significant, because the p-values are less\n",
    "#     than 0.05.\n",
    "# 5 □ The model intercept is significant, because the p-value of 0.0150 is greater than 0.01.\n",
    "\n",
    "# answer: 2 is correct (because we use alpha = 0.01!)"
   ]
  },
  {
   "cell_type": "code",
   "execution_count": 227,
   "metadata": {},
   "outputs": [
    {
     "name": "stdout",
     "output_type": "stream",
     "text": [
      "9.186\n"
     ]
    }
   ],
   "source": [
    "# solution (24)\n",
    "\n",
    "# Look at the same output as above. What effect does an increase of two units of catalyst\n",
    "# have on the expected hourly output assuming pH level is kept constant at 4?\n",
    "\n",
    "# 1 □ The expected hourly output increases by 3.87 kg per hour.\n",
    "# 2 □ The expected hourly output decreases by 4.06 kg per hour.\n",
    "# 3 □ The expected hourly output increases by 4.59 kg per hour.\n",
    "# 4 □ The expected hourly output increases by 9.19 kg per hour.\n",
    "# 5 □ The expected hourly output remains constant.\n",
    "\n",
    "print( 4.593 * 2)"
   ]
  },
  {
   "cell_type": "code",
   "execution_count": null,
   "metadata": {},
   "outputs": [],
   "source": [
    "# answer: 4"
   ]
  },
  {
   "cell_type": "markdown",
   "metadata": {},
   "source": [
    "Exercise XIII:"
   ]
  },
  {
   "cell_type": "code",
   "execution_count": 11,
   "metadata": {},
   "outputs": [
    {
     "name": "stdout",
     "output_type": "stream",
     "text": [
      "           A   B   C   D   E\n",
      "Trace     12  14  18   5  15\n",
      "No Trace  38  35  35  42  35\n"
     ]
    }
   ],
   "source": [
    "tbl = pd.DataFrame(np.array([[12, 14, 18, 5, 15],\n",
    "                             [38, 35, 35, 42, 35]]), \n",
    "                   index=[\"Trace\", \"No Trace\"],\n",
    "                   columns=[\"A\", \"B\", \"C\", \"D\", \"E\"])\n",
    "\n",
    "print(tbl)"
   ]
  },
  {
   "cell_type": "code",
   "execution_count": 12,
   "metadata": {},
   "outputs": [
    {
     "name": "stdout",
     "output_type": "stream",
     "text": [
      "[[12.85140562 12.59437751 13.62248996 12.08032129 12.85140562]\n",
      " [37.14859438 36.40562249 39.37751004 34.91967871 37.14859438]]\n"
     ]
    }
   ],
   "source": [
    "# solution (25)\n",
    "\n",
    "chi2, p_val, dof, expected = stats.chi2_contingency(tbl, correction=False)\n",
    "\n",
    "print(expected)\n"
   ]
  },
  {
   "cell_type": "code",
   "execution_count": null,
   "metadata": {},
   "outputs": [],
   "source": [
    "# answer: 39.377"
   ]
  },
  {
   "cell_type": "code",
   "execution_count": 235,
   "metadata": {},
   "outputs": [
    {
     "name": "stdout",
     "output_type": "stream",
     "text": [
      "[8.24929193000206, 0.08286151800665145]\n"
     ]
    }
   ],
   "source": [
    "# solution (26)\n",
    "\n",
    "# rule of thumb for validity:\n",
    "# \" The rule of thumb is that it is valid when all\n",
    "#   the computed expected values are at least 5: eij ≥ 5.\"\n",
    "# page 289 in book\n",
    "\n",
    "# we see from expected values that rule of thumb for validity is fulfilled\n",
    "\n",
    "print([chi2, p_val])"
   ]
  },
  {
   "cell_type": "code",
   "execution_count": 236,
   "metadata": {},
   "outputs": [],
   "source": [
    "# answer: 4"
   ]
  },
  {
   "cell_type": "code",
   "execution_count": 237,
   "metadata": {},
   "outputs": [
    {
     "name": "stdout",
     "output_type": "stream",
     "text": [
      "       A   B   C\n",
      "low   25   9  19\n",
      "med   23  21  23\n",
      "high  28  33  19\n"
     ]
    }
   ],
   "source": [
    "# solution (27)\n",
    "\n",
    "tbl = pd.DataFrame(np.array([[25,  9, 19],\n",
    "                             [23, 21, 23],\n",
    "                             [28, 33, 19]]), \n",
    "                   index=[\"low\", \"med\", \"high\"],\n",
    "                   columns=[\"A\", \"B\", \"C\"])\n",
    "\n",
    "print(tbl)"
   ]
  },
  {
   "cell_type": "code",
   "execution_count": 238,
   "metadata": {},
   "outputs": [],
   "source": [
    "chi2, p_val, dof, expected = stats.chi2_contingency(tbl, correction=False)"
   ]
  },
  {
   "cell_type": "code",
   "execution_count": 239,
   "metadata": {},
   "outputs": [
    {
     "name": "stdout",
     "output_type": "stream",
     "text": [
      "[9.575734721155486, 0.048214114523735675]\n"
     ]
    }
   ],
   "source": [
    "print([chi2, p_val])"
   ]
  },
  {
   "cell_type": "code",
   "execution_count": null,
   "metadata": {},
   "outputs": [],
   "source": [
    "# p < 0.05\n",
    "# answer: 2"
   ]
  },
  {
   "cell_type": "markdown",
   "metadata": {},
   "source": [
    "Exercise XIV:"
   ]
  },
  {
   "cell_type": "code",
   "execution_count": 241,
   "metadata": {},
   "outputs": [
    {
     "name": "stdout",
     "output_type": "stream",
     "text": [
      "[1.0204431483931302, 3.1691421344428625]\n"
     ]
    }
   ],
   "source": [
    "# solution (28)\n",
    "\n",
    "# the values can be computed via the p-values\n",
    "\n",
    "F1 = stats.f.ppf(q=1-0.432, dfn = 5 , dfd = 5*4)\n",
    "F2 = stats.f.ppf(q=1-0.036, dfn = 4 , dfd = 5*4)\n",
    "\n",
    "print([F1, F2])\n"
   ]
  },
  {
   "cell_type": "code",
   "execution_count": null,
   "metadata": {},
   "outputs": [],
   "source": [
    "# answer F1 < F2, answer: 4"
   ]
  },
  {
   "cell_type": "code",
   "execution_count": null,
   "metadata": {},
   "outputs": [],
   "source": [
    "# solution (29)\n",
    "\n",
    "# answer: 5"
   ]
  },
  {
   "cell_type": "code",
   "execution_count": null,
   "metadata": {},
   "outputs": [
    {
     "name": "stdout",
     "output_type": "stream",
     "text": [
      "10.0\n"
     ]
    }
   ],
   "source": [
    "# solution (30)\n",
    "\n",
    "# there must be 4+1 = 5 different hardware types\n",
    "\n",
    "M = 5*4/2\n",
    "print(M)"
   ]
  },
  {
   "cell_type": "code",
   "execution_count": null,
   "metadata": {},
   "outputs": [],
   "source": [
    "# answer: 4"
   ]
  }
 ],
 "metadata": {
  "kernelspec": {
   "display_name": "Python 3",
   "language": "python",
   "name": "python3"
  },
  "language_info": {
   "codemirror_mode": {
    "name": "ipython",
    "version": 3
   },
   "file_extension": ".py",
   "mimetype": "text/x-python",
   "name": "python",
   "nbconvert_exporter": "python",
   "pygments_lexer": "ipython3",
   "version": "3.11.9"
  }
 },
 "nbformat": 4,
 "nbformat_minor": 2
}
